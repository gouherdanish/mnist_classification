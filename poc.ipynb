{
 "cells": [
  {
   "cell_type": "code",
   "execution_count": 2,
   "metadata": {},
   "outputs": [],
   "source": [
    "import torch\n",
    "import torch.nn as nn\n",
    "import torchvision"
   ]
  },
  {
   "cell_type": "markdown",
   "metadata": {},
   "source": [
    "## Dataset"
   ]
  },
  {
   "cell_type": "code",
   "execution_count": 2,
   "metadata": {},
   "outputs": [],
   "source": [
    "train_ds = torchvision.datasets.MNIST(\n",
    "    root=\"data\",\n",
    "    train=True,\n",
    "    download=False\n",
    ")"
   ]
  },
  {
   "cell_type": "code",
   "execution_count": 3,
   "metadata": {},
   "outputs": [
    {
     "data": {
      "text/plain": [
       "array([[  0,   0,   0,   0,   0,   0,   0,   0,   0,   0,   0,   0,   0,\n",
       "          0,   0,   0,   0,   0,   0,   0,   0,   0,   0,   0,   0,   0,\n",
       "          0,   0],\n",
       "       [  0,   0,   0,   0,   0,   0,   0,   0,   0,   0,   0,   0,   0,\n",
       "          0,   0,   0,   0,   0,   0,   0,   0,   0,   0,   0,   0,   0,\n",
       "          0,   0],\n",
       "       [  0,   0,   0,   0,   0,   0,   0,   0,   0,   0,   0,   0,   0,\n",
       "          0,   0,   0,   0,   0,   0,   0,   0,   0,   0,   0,   0,   0,\n",
       "          0,   0],\n",
       "       [  0,   0,   0,   0,   0,   0,   0,   0,   0,   0,   0,   0,   0,\n",
       "          0,   0,   0,   0,   0,   0,   0,   0,   0,   0,   0,   0,   0,\n",
       "          0,   0],\n",
       "       [  0,   0,   0,   0,   0,   0,   0,   0,   0,   0,   0,   0,   0,\n",
       "          0,   0,   0,   0,   0,   0,   0,   0,   0,   0,   0,   0,   0,\n",
       "          0,   0],\n",
       "       [  0,   0,   0,   0,   0,   0,   0,   0,   0,   0,   0,   0,   3,\n",
       "         18,  18,  18, 126, 136, 175,  26, 166, 255, 247, 127,   0,   0,\n",
       "          0,   0],\n",
       "       [  0,   0,   0,   0,   0,   0,   0,   0,  30,  36,  94, 154, 170,\n",
       "        253, 253, 253, 253, 253, 225, 172, 253, 242, 195,  64,   0,   0,\n",
       "          0,   0],\n",
       "       [  0,   0,   0,   0,   0,   0,   0,  49, 238, 253, 253, 253, 253,\n",
       "        253, 253, 253, 253, 251,  93,  82,  82,  56,  39,   0,   0,   0,\n",
       "          0,   0],\n",
       "       [  0,   0,   0,   0,   0,   0,   0,  18, 219, 253, 253, 253, 253,\n",
       "        253, 198, 182, 247, 241,   0,   0,   0,   0,   0,   0,   0,   0,\n",
       "          0,   0],\n",
       "       [  0,   0,   0,   0,   0,   0,   0,   0,  80, 156, 107, 253, 253,\n",
       "        205,  11,   0,  43, 154,   0,   0,   0,   0,   0,   0,   0,   0,\n",
       "          0,   0],\n",
       "       [  0,   0,   0,   0,   0,   0,   0,   0,   0,  14,   1, 154, 253,\n",
       "         90,   0,   0,   0,   0,   0,   0,   0,   0,   0,   0,   0,   0,\n",
       "          0,   0],\n",
       "       [  0,   0,   0,   0,   0,   0,   0,   0,   0,   0,   0, 139, 253,\n",
       "        190,   2,   0,   0,   0,   0,   0,   0,   0,   0,   0,   0,   0,\n",
       "          0,   0],\n",
       "       [  0,   0,   0,   0,   0,   0,   0,   0,   0,   0,   0,  11, 190,\n",
       "        253,  70,   0,   0,   0,   0,   0,   0,   0,   0,   0,   0,   0,\n",
       "          0,   0],\n",
       "       [  0,   0,   0,   0,   0,   0,   0,   0,   0,   0,   0,   0,  35,\n",
       "        241, 225, 160, 108,   1,   0,   0,   0,   0,   0,   0,   0,   0,\n",
       "          0,   0],\n",
       "       [  0,   0,   0,   0,   0,   0,   0,   0,   0,   0,   0,   0,   0,\n",
       "         81, 240, 253, 253, 119,  25,   0,   0,   0,   0,   0,   0,   0,\n",
       "          0,   0],\n",
       "       [  0,   0,   0,   0,   0,   0,   0,   0,   0,   0,   0,   0,   0,\n",
       "          0,  45, 186, 253, 253, 150,  27,   0,   0,   0,   0,   0,   0,\n",
       "          0,   0],\n",
       "       [  0,   0,   0,   0,   0,   0,   0,   0,   0,   0,   0,   0,   0,\n",
       "          0,   0,  16,  93, 252, 253, 187,   0,   0,   0,   0,   0,   0,\n",
       "          0,   0],\n",
       "       [  0,   0,   0,   0,   0,   0,   0,   0,   0,   0,   0,   0,   0,\n",
       "          0,   0,   0,   0, 249, 253, 249,  64,   0,   0,   0,   0,   0,\n",
       "          0,   0],\n",
       "       [  0,   0,   0,   0,   0,   0,   0,   0,   0,   0,   0,   0,   0,\n",
       "          0,  46, 130, 183, 253, 253, 207,   2,   0,   0,   0,   0,   0,\n",
       "          0,   0],\n",
       "       [  0,   0,   0,   0,   0,   0,   0,   0,   0,   0,   0,   0,  39,\n",
       "        148, 229, 253, 253, 253, 250, 182,   0,   0,   0,   0,   0,   0,\n",
       "          0,   0],\n",
       "       [  0,   0,   0,   0,   0,   0,   0,   0,   0,   0,  24, 114, 221,\n",
       "        253, 253, 253, 253, 201,  78,   0,   0,   0,   0,   0,   0,   0,\n",
       "          0,   0],\n",
       "       [  0,   0,   0,   0,   0,   0,   0,   0,  23,  66, 213, 253, 253,\n",
       "        253, 253, 198,  81,   2,   0,   0,   0,   0,   0,   0,   0,   0,\n",
       "          0,   0],\n",
       "       [  0,   0,   0,   0,   0,   0,  18, 171, 219, 253, 253, 253, 253,\n",
       "        195,  80,   9,   0,   0,   0,   0,   0,   0,   0,   0,   0,   0,\n",
       "          0,   0],\n",
       "       [  0,   0,   0,   0,  55, 172, 226, 253, 253, 253, 253, 244, 133,\n",
       "         11,   0,   0,   0,   0,   0,   0,   0,   0,   0,   0,   0,   0,\n",
       "          0,   0],\n",
       "       [  0,   0,   0,   0, 136, 253, 253, 253, 212, 135, 132,  16,   0,\n",
       "          0,   0,   0,   0,   0,   0,   0,   0,   0,   0,   0,   0,   0,\n",
       "          0,   0],\n",
       "       [  0,   0,   0,   0,   0,   0,   0,   0,   0,   0,   0,   0,   0,\n",
       "          0,   0,   0,   0,   0,   0,   0,   0,   0,   0,   0,   0,   0,\n",
       "          0,   0],\n",
       "       [  0,   0,   0,   0,   0,   0,   0,   0,   0,   0,   0,   0,   0,\n",
       "          0,   0,   0,   0,   0,   0,   0,   0,   0,   0,   0,   0,   0,\n",
       "          0,   0],\n",
       "       [  0,   0,   0,   0,   0,   0,   0,   0,   0,   0,   0,   0,   0,\n",
       "          0,   0,   0,   0,   0,   0,   0,   0,   0,   0,   0,   0,   0,\n",
       "          0,   0]], dtype=uint8)"
      ]
     },
     "execution_count": 3,
     "metadata": {},
     "output_type": "execute_result"
    }
   ],
   "source": [
    "img = train_ds.data[0].numpy()\n",
    "img"
   ]
  },
  {
   "cell_type": "markdown",
   "metadata": {},
   "source": [
    "## Transforms"
   ]
  },
  {
   "cell_type": "code",
   "execution_count": 4,
   "metadata": {},
   "outputs": [
    {
     "data": {
      "text/plain": [
       "tensor([[[0.0000, 0.0000, 0.0000, 0.0000, 0.0000, 0.0000, 0.0000, 0.0000,\n",
       "          0.0000, 0.0000, 0.0000, 0.0000, 0.0000, 0.0000, 0.0000, 0.0000,\n",
       "          0.0000, 0.0000, 0.0000, 0.0000, 0.0000, 0.0000, 0.0000, 0.0000,\n",
       "          0.0000, 0.0000, 0.0000, 0.0000],\n",
       "         [0.0000, 0.0000, 0.0000, 0.0000, 0.0000, 0.0000, 0.0000, 0.0000,\n",
       "          0.0000, 0.0000, 0.0000, 0.0000, 0.0000, 0.0000, 0.0000, 0.0000,\n",
       "          0.0000, 0.0000, 0.0000, 0.0000, 0.0000, 0.0000, 0.0000, 0.0000,\n",
       "          0.0000, 0.0000, 0.0000, 0.0000],\n",
       "         [0.0000, 0.0000, 0.0000, 0.0000, 0.0000, 0.0000, 0.0000, 0.0000,\n",
       "          0.0000, 0.0000, 0.0000, 0.0000, 0.0000, 0.0000, 0.0000, 0.0000,\n",
       "          0.0000, 0.0000, 0.0000, 0.0000, 0.0000, 0.0000, 0.0000, 0.0000,\n",
       "          0.0000, 0.0000, 0.0000, 0.0000],\n",
       "         [0.0000, 0.0000, 0.0000, 0.0000, 0.0000, 0.0000, 0.0000, 0.0000,\n",
       "          0.0000, 0.0000, 0.0000, 0.0000, 0.0000, 0.0000, 0.0000, 0.0000,\n",
       "          0.0000, 0.0000, 0.0000, 0.0000, 0.0000, 0.0000, 0.0000, 0.0000,\n",
       "          0.0000, 0.0000, 0.0000, 0.0000],\n",
       "         [0.0000, 0.0000, 0.0000, 0.0000, 0.0000, 0.0000, 0.0000, 0.0000,\n",
       "          0.0000, 0.0000, 0.0000, 0.0000, 0.0000, 0.0000, 0.0000, 0.0000,\n",
       "          0.0000, 0.0000, 0.0000, 0.0000, 0.0000, 0.0000, 0.0000, 0.0000,\n",
       "          0.0000, 0.0000, 0.0000, 0.0000],\n",
       "         [0.0000, 0.0000, 0.0000, 0.0000, 0.0000, 0.0000, 0.0000, 0.0000,\n",
       "          0.0000, 0.0000, 0.0000, 0.0000, 0.0118, 0.0706, 0.0706, 0.0706,\n",
       "          0.4941, 0.5333, 0.6863, 0.1020, 0.6510, 1.0000, 0.9686, 0.4980,\n",
       "          0.0000, 0.0000, 0.0000, 0.0000],\n",
       "         [0.0000, 0.0000, 0.0000, 0.0000, 0.0000, 0.0000, 0.0000, 0.0000,\n",
       "          0.1176, 0.1412, 0.3686, 0.6039, 0.6667, 0.9922, 0.9922, 0.9922,\n",
       "          0.9922, 0.9922, 0.8824, 0.6745, 0.9922, 0.9490, 0.7647, 0.2510,\n",
       "          0.0000, 0.0000, 0.0000, 0.0000],\n",
       "         [0.0000, 0.0000, 0.0000, 0.0000, 0.0000, 0.0000, 0.0000, 0.1922,\n",
       "          0.9333, 0.9922, 0.9922, 0.9922, 0.9922, 0.9922, 0.9922, 0.9922,\n",
       "          0.9922, 0.9843, 0.3647, 0.3216, 0.3216, 0.2196, 0.1529, 0.0000,\n",
       "          0.0000, 0.0000, 0.0000, 0.0000],\n",
       "         [0.0000, 0.0000, 0.0000, 0.0000, 0.0000, 0.0000, 0.0000, 0.0706,\n",
       "          0.8588, 0.9922, 0.9922, 0.9922, 0.9922, 0.9922, 0.7765, 0.7137,\n",
       "          0.9686, 0.9451, 0.0000, 0.0000, 0.0000, 0.0000, 0.0000, 0.0000,\n",
       "          0.0000, 0.0000, 0.0000, 0.0000],\n",
       "         [0.0000, 0.0000, 0.0000, 0.0000, 0.0000, 0.0000, 0.0000, 0.0000,\n",
       "          0.3137, 0.6118, 0.4196, 0.9922, 0.9922, 0.8039, 0.0431, 0.0000,\n",
       "          0.1686, 0.6039, 0.0000, 0.0000, 0.0000, 0.0000, 0.0000, 0.0000,\n",
       "          0.0000, 0.0000, 0.0000, 0.0000],\n",
       "         [0.0000, 0.0000, 0.0000, 0.0000, 0.0000, 0.0000, 0.0000, 0.0000,\n",
       "          0.0000, 0.0549, 0.0039, 0.6039, 0.9922, 0.3529, 0.0000, 0.0000,\n",
       "          0.0000, 0.0000, 0.0000, 0.0000, 0.0000, 0.0000, 0.0000, 0.0000,\n",
       "          0.0000, 0.0000, 0.0000, 0.0000],\n",
       "         [0.0000, 0.0000, 0.0000, 0.0000, 0.0000, 0.0000, 0.0000, 0.0000,\n",
       "          0.0000, 0.0000, 0.0000, 0.5451, 0.9922, 0.7451, 0.0078, 0.0000,\n",
       "          0.0000, 0.0000, 0.0000, 0.0000, 0.0000, 0.0000, 0.0000, 0.0000,\n",
       "          0.0000, 0.0000, 0.0000, 0.0000],\n",
       "         [0.0000, 0.0000, 0.0000, 0.0000, 0.0000, 0.0000, 0.0000, 0.0000,\n",
       "          0.0000, 0.0000, 0.0000, 0.0431, 0.7451, 0.9922, 0.2745, 0.0000,\n",
       "          0.0000, 0.0000, 0.0000, 0.0000, 0.0000, 0.0000, 0.0000, 0.0000,\n",
       "          0.0000, 0.0000, 0.0000, 0.0000],\n",
       "         [0.0000, 0.0000, 0.0000, 0.0000, 0.0000, 0.0000, 0.0000, 0.0000,\n",
       "          0.0000, 0.0000, 0.0000, 0.0000, 0.1373, 0.9451, 0.8824, 0.6275,\n",
       "          0.4235, 0.0039, 0.0000, 0.0000, 0.0000, 0.0000, 0.0000, 0.0000,\n",
       "          0.0000, 0.0000, 0.0000, 0.0000],\n",
       "         [0.0000, 0.0000, 0.0000, 0.0000, 0.0000, 0.0000, 0.0000, 0.0000,\n",
       "          0.0000, 0.0000, 0.0000, 0.0000, 0.0000, 0.3176, 0.9412, 0.9922,\n",
       "          0.9922, 0.4667, 0.0980, 0.0000, 0.0000, 0.0000, 0.0000, 0.0000,\n",
       "          0.0000, 0.0000, 0.0000, 0.0000],\n",
       "         [0.0000, 0.0000, 0.0000, 0.0000, 0.0000, 0.0000, 0.0000, 0.0000,\n",
       "          0.0000, 0.0000, 0.0000, 0.0000, 0.0000, 0.0000, 0.1765, 0.7294,\n",
       "          0.9922, 0.9922, 0.5882, 0.1059, 0.0000, 0.0000, 0.0000, 0.0000,\n",
       "          0.0000, 0.0000, 0.0000, 0.0000],\n",
       "         [0.0000, 0.0000, 0.0000, 0.0000, 0.0000, 0.0000, 0.0000, 0.0000,\n",
       "          0.0000, 0.0000, 0.0000, 0.0000, 0.0000, 0.0000, 0.0000, 0.0627,\n",
       "          0.3647, 0.9882, 0.9922, 0.7333, 0.0000, 0.0000, 0.0000, 0.0000,\n",
       "          0.0000, 0.0000, 0.0000, 0.0000],\n",
       "         [0.0000, 0.0000, 0.0000, 0.0000, 0.0000, 0.0000, 0.0000, 0.0000,\n",
       "          0.0000, 0.0000, 0.0000, 0.0000, 0.0000, 0.0000, 0.0000, 0.0000,\n",
       "          0.0000, 0.9765, 0.9922, 0.9765, 0.2510, 0.0000, 0.0000, 0.0000,\n",
       "          0.0000, 0.0000, 0.0000, 0.0000],\n",
       "         [0.0000, 0.0000, 0.0000, 0.0000, 0.0000, 0.0000, 0.0000, 0.0000,\n",
       "          0.0000, 0.0000, 0.0000, 0.0000, 0.0000, 0.0000, 0.1804, 0.5098,\n",
       "          0.7176, 0.9922, 0.9922, 0.8118, 0.0078, 0.0000, 0.0000, 0.0000,\n",
       "          0.0000, 0.0000, 0.0000, 0.0000],\n",
       "         [0.0000, 0.0000, 0.0000, 0.0000, 0.0000, 0.0000, 0.0000, 0.0000,\n",
       "          0.0000, 0.0000, 0.0000, 0.0000, 0.1529, 0.5804, 0.8980, 0.9922,\n",
       "          0.9922, 0.9922, 0.9804, 0.7137, 0.0000, 0.0000, 0.0000, 0.0000,\n",
       "          0.0000, 0.0000, 0.0000, 0.0000],\n",
       "         [0.0000, 0.0000, 0.0000, 0.0000, 0.0000, 0.0000, 0.0000, 0.0000,\n",
       "          0.0000, 0.0000, 0.0941, 0.4471, 0.8667, 0.9922, 0.9922, 0.9922,\n",
       "          0.9922, 0.7882, 0.3059, 0.0000, 0.0000, 0.0000, 0.0000, 0.0000,\n",
       "          0.0000, 0.0000, 0.0000, 0.0000],\n",
       "         [0.0000, 0.0000, 0.0000, 0.0000, 0.0000, 0.0000, 0.0000, 0.0000,\n",
       "          0.0902, 0.2588, 0.8353, 0.9922, 0.9922, 0.9922, 0.9922, 0.7765,\n",
       "          0.3176, 0.0078, 0.0000, 0.0000, 0.0000, 0.0000, 0.0000, 0.0000,\n",
       "          0.0000, 0.0000, 0.0000, 0.0000],\n",
       "         [0.0000, 0.0000, 0.0000, 0.0000, 0.0000, 0.0000, 0.0706, 0.6706,\n",
       "          0.8588, 0.9922, 0.9922, 0.9922, 0.9922, 0.7647, 0.3137, 0.0353,\n",
       "          0.0000, 0.0000, 0.0000, 0.0000, 0.0000, 0.0000, 0.0000, 0.0000,\n",
       "          0.0000, 0.0000, 0.0000, 0.0000],\n",
       "         [0.0000, 0.0000, 0.0000, 0.0000, 0.2157, 0.6745, 0.8863, 0.9922,\n",
       "          0.9922, 0.9922, 0.9922, 0.9569, 0.5216, 0.0431, 0.0000, 0.0000,\n",
       "          0.0000, 0.0000, 0.0000, 0.0000, 0.0000, 0.0000, 0.0000, 0.0000,\n",
       "          0.0000, 0.0000, 0.0000, 0.0000],\n",
       "         [0.0000, 0.0000, 0.0000, 0.0000, 0.5333, 0.9922, 0.9922, 0.9922,\n",
       "          0.8314, 0.5294, 0.5176, 0.0627, 0.0000, 0.0000, 0.0000, 0.0000,\n",
       "          0.0000, 0.0000, 0.0000, 0.0000, 0.0000, 0.0000, 0.0000, 0.0000,\n",
       "          0.0000, 0.0000, 0.0000, 0.0000],\n",
       "         [0.0000, 0.0000, 0.0000, 0.0000, 0.0000, 0.0000, 0.0000, 0.0000,\n",
       "          0.0000, 0.0000, 0.0000, 0.0000, 0.0000, 0.0000, 0.0000, 0.0000,\n",
       "          0.0000, 0.0000, 0.0000, 0.0000, 0.0000, 0.0000, 0.0000, 0.0000,\n",
       "          0.0000, 0.0000, 0.0000, 0.0000],\n",
       "         [0.0000, 0.0000, 0.0000, 0.0000, 0.0000, 0.0000, 0.0000, 0.0000,\n",
       "          0.0000, 0.0000, 0.0000, 0.0000, 0.0000, 0.0000, 0.0000, 0.0000,\n",
       "          0.0000, 0.0000, 0.0000, 0.0000, 0.0000, 0.0000, 0.0000, 0.0000,\n",
       "          0.0000, 0.0000, 0.0000, 0.0000],\n",
       "         [0.0000, 0.0000, 0.0000, 0.0000, 0.0000, 0.0000, 0.0000, 0.0000,\n",
       "          0.0000, 0.0000, 0.0000, 0.0000, 0.0000, 0.0000, 0.0000, 0.0000,\n",
       "          0.0000, 0.0000, 0.0000, 0.0000, 0.0000, 0.0000, 0.0000, 0.0000,\n",
       "          0.0000, 0.0000, 0.0000, 0.0000]]])"
      ]
     },
     "execution_count": 4,
     "metadata": {},
     "output_type": "execute_result"
    }
   ],
   "source": [
    "# ToTensor -> converts values to range (0,1)\n",
    "tfm = torchvision.transforms.ToTensor()\n",
    "img_tfm1 = tfm(img)\n",
    "img_tfm1"
   ]
  },
  {
   "cell_type": "code",
   "execution_count": 5,
   "metadata": {},
   "outputs": [
    {
     "data": {
      "text/plain": [
       "tensor([[[-1.0000, -1.0000, -1.0000, -1.0000, -1.0000, -1.0000, -1.0000,\n",
       "          -1.0000, -1.0000, -1.0000, -1.0000, -1.0000, -1.0000, -1.0000,\n",
       "          -1.0000, -1.0000, -1.0000, -1.0000, -1.0000, -1.0000, -1.0000,\n",
       "          -1.0000, -1.0000, -1.0000, -1.0000, -1.0000, -1.0000, -1.0000],\n",
       "         [-1.0000, -1.0000, -1.0000, -1.0000, -1.0000, -1.0000, -1.0000,\n",
       "          -1.0000, -1.0000, -1.0000, -1.0000, -1.0000, -1.0000, -1.0000,\n",
       "          -1.0000, -1.0000, -1.0000, -1.0000, -1.0000, -1.0000, -1.0000,\n",
       "          -1.0000, -1.0000, -1.0000, -1.0000, -1.0000, -1.0000, -1.0000],\n",
       "         [-1.0000, -1.0000, -1.0000, -1.0000, -1.0000, -1.0000, -1.0000,\n",
       "          -1.0000, -1.0000, -1.0000, -1.0000, -1.0000, -1.0000, -1.0000,\n",
       "          -1.0000, -1.0000, -1.0000, -1.0000, -1.0000, -1.0000, -1.0000,\n",
       "          -1.0000, -1.0000, -1.0000, -1.0000, -1.0000, -1.0000, -1.0000],\n",
       "         [-1.0000, -1.0000, -1.0000, -1.0000, -1.0000, -1.0000, -1.0000,\n",
       "          -1.0000, -1.0000, -1.0000, -1.0000, -1.0000, -1.0000, -1.0000,\n",
       "          -1.0000, -1.0000, -1.0000, -1.0000, -1.0000, -1.0000, -1.0000,\n",
       "          -1.0000, -1.0000, -1.0000, -1.0000, -1.0000, -1.0000, -1.0000],\n",
       "         [-1.0000, -1.0000, -1.0000, -1.0000, -1.0000, -1.0000, -1.0000,\n",
       "          -1.0000, -1.0000, -1.0000, -1.0000, -1.0000, -1.0000, -1.0000,\n",
       "          -1.0000, -1.0000, -1.0000, -1.0000, -1.0000, -1.0000, -1.0000,\n",
       "          -1.0000, -1.0000, -1.0000, -1.0000, -1.0000, -1.0000, -1.0000],\n",
       "         [-1.0000, -1.0000, -1.0000, -1.0000, -1.0000, -1.0000, -1.0000,\n",
       "          -1.0000, -1.0000, -1.0000, -1.0000, -1.0000, -0.9765, -0.8588,\n",
       "          -0.8588, -0.8588, -0.0118,  0.0667,  0.3725, -0.7961,  0.3020,\n",
       "           1.0000,  0.9373, -0.0039, -1.0000, -1.0000, -1.0000, -1.0000],\n",
       "         [-1.0000, -1.0000, -1.0000, -1.0000, -1.0000, -1.0000, -1.0000,\n",
       "          -1.0000, -0.7647, -0.7176, -0.2627,  0.2078,  0.3333,  0.9843,\n",
       "           0.9843,  0.9843,  0.9843,  0.9843,  0.7647,  0.3490,  0.9843,\n",
       "           0.8980,  0.5294, -0.4980, -1.0000, -1.0000, -1.0000, -1.0000],\n",
       "         [-1.0000, -1.0000, -1.0000, -1.0000, -1.0000, -1.0000, -1.0000,\n",
       "          -0.6157,  0.8667,  0.9843,  0.9843,  0.9843,  0.9843,  0.9843,\n",
       "           0.9843,  0.9843,  0.9843,  0.9686, -0.2706, -0.3569, -0.3569,\n",
       "          -0.5608, -0.6941, -1.0000, -1.0000, -1.0000, -1.0000, -1.0000],\n",
       "         [-1.0000, -1.0000, -1.0000, -1.0000, -1.0000, -1.0000, -1.0000,\n",
       "          -0.8588,  0.7176,  0.9843,  0.9843,  0.9843,  0.9843,  0.9843,\n",
       "           0.5529,  0.4275,  0.9373,  0.8902, -1.0000, -1.0000, -1.0000,\n",
       "          -1.0000, -1.0000, -1.0000, -1.0000, -1.0000, -1.0000, -1.0000],\n",
       "         [-1.0000, -1.0000, -1.0000, -1.0000, -1.0000, -1.0000, -1.0000,\n",
       "          -1.0000, -0.3725,  0.2235, -0.1608,  0.9843,  0.9843,  0.6078,\n",
       "          -0.9137, -1.0000, -0.6627,  0.2078, -1.0000, -1.0000, -1.0000,\n",
       "          -1.0000, -1.0000, -1.0000, -1.0000, -1.0000, -1.0000, -1.0000],\n",
       "         [-1.0000, -1.0000, -1.0000, -1.0000, -1.0000, -1.0000, -1.0000,\n",
       "          -1.0000, -1.0000, -0.8902, -0.9922,  0.2078,  0.9843, -0.2941,\n",
       "          -1.0000, -1.0000, -1.0000, -1.0000, -1.0000, -1.0000, -1.0000,\n",
       "          -1.0000, -1.0000, -1.0000, -1.0000, -1.0000, -1.0000, -1.0000],\n",
       "         [-1.0000, -1.0000, -1.0000, -1.0000, -1.0000, -1.0000, -1.0000,\n",
       "          -1.0000, -1.0000, -1.0000, -1.0000,  0.0902,  0.9843,  0.4902,\n",
       "          -0.9843, -1.0000, -1.0000, -1.0000, -1.0000, -1.0000, -1.0000,\n",
       "          -1.0000, -1.0000, -1.0000, -1.0000, -1.0000, -1.0000, -1.0000],\n",
       "         [-1.0000, -1.0000, -1.0000, -1.0000, -1.0000, -1.0000, -1.0000,\n",
       "          -1.0000, -1.0000, -1.0000, -1.0000, -0.9137,  0.4902,  0.9843,\n",
       "          -0.4510, -1.0000, -1.0000, -1.0000, -1.0000, -1.0000, -1.0000,\n",
       "          -1.0000, -1.0000, -1.0000, -1.0000, -1.0000, -1.0000, -1.0000],\n",
       "         [-1.0000, -1.0000, -1.0000, -1.0000, -1.0000, -1.0000, -1.0000,\n",
       "          -1.0000, -1.0000, -1.0000, -1.0000, -1.0000, -0.7255,  0.8902,\n",
       "           0.7647,  0.2549, -0.1529, -0.9922, -1.0000, -1.0000, -1.0000,\n",
       "          -1.0000, -1.0000, -1.0000, -1.0000, -1.0000, -1.0000, -1.0000],\n",
       "         [-1.0000, -1.0000, -1.0000, -1.0000, -1.0000, -1.0000, -1.0000,\n",
       "          -1.0000, -1.0000, -1.0000, -1.0000, -1.0000, -1.0000, -0.3647,\n",
       "           0.8824,  0.9843,  0.9843, -0.0667, -0.8039, -1.0000, -1.0000,\n",
       "          -1.0000, -1.0000, -1.0000, -1.0000, -1.0000, -1.0000, -1.0000],\n",
       "         [-1.0000, -1.0000, -1.0000, -1.0000, -1.0000, -1.0000, -1.0000,\n",
       "          -1.0000, -1.0000, -1.0000, -1.0000, -1.0000, -1.0000, -1.0000,\n",
       "          -0.6471,  0.4588,  0.9843,  0.9843,  0.1765, -0.7882, -1.0000,\n",
       "          -1.0000, -1.0000, -1.0000, -1.0000, -1.0000, -1.0000, -1.0000],\n",
       "         [-1.0000, -1.0000, -1.0000, -1.0000, -1.0000, -1.0000, -1.0000,\n",
       "          -1.0000, -1.0000, -1.0000, -1.0000, -1.0000, -1.0000, -1.0000,\n",
       "          -1.0000, -0.8745, -0.2706,  0.9765,  0.9843,  0.4667, -1.0000,\n",
       "          -1.0000, -1.0000, -1.0000, -1.0000, -1.0000, -1.0000, -1.0000],\n",
       "         [-1.0000, -1.0000, -1.0000, -1.0000, -1.0000, -1.0000, -1.0000,\n",
       "          -1.0000, -1.0000, -1.0000, -1.0000, -1.0000, -1.0000, -1.0000,\n",
       "          -1.0000, -1.0000, -1.0000,  0.9529,  0.9843,  0.9529, -0.4980,\n",
       "          -1.0000, -1.0000, -1.0000, -1.0000, -1.0000, -1.0000, -1.0000],\n",
       "         [-1.0000, -1.0000, -1.0000, -1.0000, -1.0000, -1.0000, -1.0000,\n",
       "          -1.0000, -1.0000, -1.0000, -1.0000, -1.0000, -1.0000, -1.0000,\n",
       "          -0.6392,  0.0196,  0.4353,  0.9843,  0.9843,  0.6235, -0.9843,\n",
       "          -1.0000, -1.0000, -1.0000, -1.0000, -1.0000, -1.0000, -1.0000],\n",
       "         [-1.0000, -1.0000, -1.0000, -1.0000, -1.0000, -1.0000, -1.0000,\n",
       "          -1.0000, -1.0000, -1.0000, -1.0000, -1.0000, -0.6941,  0.1608,\n",
       "           0.7961,  0.9843,  0.9843,  0.9843,  0.9608,  0.4275, -1.0000,\n",
       "          -1.0000, -1.0000, -1.0000, -1.0000, -1.0000, -1.0000, -1.0000],\n",
       "         [-1.0000, -1.0000, -1.0000, -1.0000, -1.0000, -1.0000, -1.0000,\n",
       "          -1.0000, -1.0000, -1.0000, -0.8118, -0.1059,  0.7333,  0.9843,\n",
       "           0.9843,  0.9843,  0.9843,  0.5765, -0.3882, -1.0000, -1.0000,\n",
       "          -1.0000, -1.0000, -1.0000, -1.0000, -1.0000, -1.0000, -1.0000],\n",
       "         [-1.0000, -1.0000, -1.0000, -1.0000, -1.0000, -1.0000, -1.0000,\n",
       "          -1.0000, -0.8196, -0.4824,  0.6706,  0.9843,  0.9843,  0.9843,\n",
       "           0.9843,  0.5529, -0.3647, -0.9843, -1.0000, -1.0000, -1.0000,\n",
       "          -1.0000, -1.0000, -1.0000, -1.0000, -1.0000, -1.0000, -1.0000],\n",
       "         [-1.0000, -1.0000, -1.0000, -1.0000, -1.0000, -1.0000, -0.8588,\n",
       "           0.3412,  0.7176,  0.9843,  0.9843,  0.9843,  0.9843,  0.5294,\n",
       "          -0.3725, -0.9294, -1.0000, -1.0000, -1.0000, -1.0000, -1.0000,\n",
       "          -1.0000, -1.0000, -1.0000, -1.0000, -1.0000, -1.0000, -1.0000],\n",
       "         [-1.0000, -1.0000, -1.0000, -1.0000, -0.5686,  0.3490,  0.7725,\n",
       "           0.9843,  0.9843,  0.9843,  0.9843,  0.9137,  0.0431, -0.9137,\n",
       "          -1.0000, -1.0000, -1.0000, -1.0000, -1.0000, -1.0000, -1.0000,\n",
       "          -1.0000, -1.0000, -1.0000, -1.0000, -1.0000, -1.0000, -1.0000],\n",
       "         [-1.0000, -1.0000, -1.0000, -1.0000,  0.0667,  0.9843,  0.9843,\n",
       "           0.9843,  0.6627,  0.0588,  0.0353, -0.8745, -1.0000, -1.0000,\n",
       "          -1.0000, -1.0000, -1.0000, -1.0000, -1.0000, -1.0000, -1.0000,\n",
       "          -1.0000, -1.0000, -1.0000, -1.0000, -1.0000, -1.0000, -1.0000],\n",
       "         [-1.0000, -1.0000, -1.0000, -1.0000, -1.0000, -1.0000, -1.0000,\n",
       "          -1.0000, -1.0000, -1.0000, -1.0000, -1.0000, -1.0000, -1.0000,\n",
       "          -1.0000, -1.0000, -1.0000, -1.0000, -1.0000, -1.0000, -1.0000,\n",
       "          -1.0000, -1.0000, -1.0000, -1.0000, -1.0000, -1.0000, -1.0000],\n",
       "         [-1.0000, -1.0000, -1.0000, -1.0000, -1.0000, -1.0000, -1.0000,\n",
       "          -1.0000, -1.0000, -1.0000, -1.0000, -1.0000, -1.0000, -1.0000,\n",
       "          -1.0000, -1.0000, -1.0000, -1.0000, -1.0000, -1.0000, -1.0000,\n",
       "          -1.0000, -1.0000, -1.0000, -1.0000, -1.0000, -1.0000, -1.0000],\n",
       "         [-1.0000, -1.0000, -1.0000, -1.0000, -1.0000, -1.0000, -1.0000,\n",
       "          -1.0000, -1.0000, -1.0000, -1.0000, -1.0000, -1.0000, -1.0000,\n",
       "          -1.0000, -1.0000, -1.0000, -1.0000, -1.0000, -1.0000, -1.0000,\n",
       "          -1.0000, -1.0000, -1.0000, -1.0000, -1.0000, -1.0000, -1.0000]]])"
      ]
     },
     "execution_count": 5,
     "metadata": {},
     "output_type": "execute_result"
    }
   ],
   "source": [
    "tfm = torchvision.transforms.Normalize((0.5),(0.5))\n",
    "img_tfm2 = tfm(img_tfm1)\n",
    "img_tfm2"
   ]
  },
  {
   "cell_type": "markdown",
   "metadata": {},
   "source": [
    "## Visualizing"
   ]
  },
  {
   "cell_type": "code",
   "execution_count": 3,
   "metadata": {},
   "outputs": [],
   "source": [
    "import matplotlib.pyplot as plt"
   ]
  },
  {
   "cell_type": "code",
   "execution_count": 7,
   "metadata": {},
   "outputs": [
    {
     "data": {
      "text/plain": [
       "<matplotlib.image.AxesImage at 0x16dcb6ad0>"
      ]
     },
     "execution_count": 7,
     "metadata": {},
     "output_type": "execute_result"
    },
    {
     "data": {
      "image/png": "[encoded data removed]",
      "text/plain": [
       "<Figure size 640x480 with 1 Axes>"
      ]
     },
     "metadata": {},
     "output_type": "display_data"
    }
   ],
   "source": [
    "plt.imshow(img)"
   ]
  },
  {
   "cell_type": "code",
   "execution_count": 8,
   "metadata": {},
   "outputs": [
    {
     "data": {
      "text/plain": [
       "((28, 28), torch.Size([1, 28, 28]))"
      ]
     },
     "execution_count": 8,
     "metadata": {},
     "output_type": "execute_result"
    }
   ],
   "source": [
    "img.shape, img_tfm2.shape"
   ]
  },
  {
   "cell_type": "code",
   "execution_count": 9,
   "metadata": {},
   "outputs": [
    {
     "data": {
      "text/plain": [
       "<matplotlib.image.AxesImage at 0x16ddcabd0>"
      ]
     },
     "execution_count": 9,
     "metadata": {},
     "output_type": "execute_result"
    },
    {
     "data": {
      "image/png": "[encoded data removed]",
      "text/plain": [
       "<Figure size 640x480 with 1 Axes>"
      ]
     },
     "metadata": {},
     "output_type": "display_data"
    }
   ],
   "source": [
    "plt.imshow(img_tfm1.squeeze())"
   ]
  },
  {
   "cell_type": "code",
   "execution_count": 10,
   "metadata": {},
   "outputs": [
    {
     "data": {
      "text/plain": [
       "<matplotlib.image.AxesImage at 0x1771b8350>"
      ]
     },
     "execution_count": 10,
     "metadata": {},
     "output_type": "execute_result"
    },
    {
     "data": {
      "image/png": "[encoded data removed]",
      "text/plain": [
       "<Figure size 640x480 with 1 Axes>"
      ]
     },
     "metadata": {},
     "output_type": "display_data"
    }
   ],
   "source": [
    "plt.imshow(img_tfm2.squeeze())"
   ]
  },
  {
   "cell_type": "markdown",
   "metadata": {},
   "source": [
    "## Class Distribution"
   ]
  },
  {
   "cell_type": "code",
   "execution_count": 14,
   "metadata": {},
   "outputs": [],
   "source": [
    "from torch.utils.data import DataLoader"
   ]
  },
  {
   "cell_type": "code",
   "execution_count": 12,
   "metadata": {},
   "outputs": [],
   "source": [
    "from collections import defaultdict\n",
    "train_indices_by_class = defaultdict(list)\n",
    "train_distribution_by_class = {}\n",
    "for idx, (_,label) in enumerate(train_ds):\n",
    "    train_indices_by_class[label].append(idx)\n",
    "    train_distribution_by_class[label] = train_distribution_by_class.get(label,0)+1"
   ]
  },
  {
   "cell_type": "code",
   "execution_count": 13,
   "metadata": {},
   "outputs": [
    {
     "data": {
      "text/plain": [
       "5958"
      ]
     },
     "execution_count": 13,
     "metadata": {},
     "output_type": "execute_result"
    }
   ],
   "source": [
    "len(train_indices_by_class[2])"
   ]
  },
  {
   "cell_type": "code",
   "execution_count": 14,
   "metadata": {},
   "outputs": [
    {
     "data": {
      "text/plain": [
       "{5: 5421,\n",
       " 0: 5923,\n",
       " 4: 5842,\n",
       " 1: 6742,\n",
       " 9: 5949,\n",
       " 2: 5958,\n",
       " 3: 6131,\n",
       " 6: 5918,\n",
       " 7: 6265,\n",
       " 8: 5851}"
      ]
     },
     "execution_count": 14,
     "metadata": {},
     "output_type": "execute_result"
    }
   ],
   "source": [
    "train_distribution_by_class"
   ]
  },
  {
   "cell_type": "code",
   "execution_count": 15,
   "metadata": {},
   "outputs": [
    {
     "data": {
      "text/plain": [
       "<BarContainer object of 10 artists>"
      ]
     },
     "execution_count": 15,
     "metadata": {},
     "output_type": "execute_result"
    },
    {
     "data": {
      "image/png": "[encoded data removed]",
      "text/plain": [
       "<Figure size 640x480 with 1 Axes>"
      ]
     },
     "metadata": {},
     "output_type": "display_data"
    }
   ],
   "source": [
    "plt.bar(x=train_distribution_by_class.keys(),height=train_distribution_by_class.values())"
   ]
  },
  {
   "cell_type": "markdown",
   "metadata": {},
   "source": [
    "## Dataset with Transforms"
   ]
  },
  {
   "cell_type": "code",
   "execution_count": 4,
   "metadata": {},
   "outputs": [],
   "source": [
    "transform = torchvision.transforms.Compose([\n",
    "    torchvision.transforms.ToTensor(),\n",
    "    torchvision.transforms.Normalize((0.5),(0.5))\n",
    "])"
   ]
  },
  {
   "cell_type": "code",
   "execution_count": 3,
   "metadata": {},
   "outputs": [],
   "source": [
    "train_ds = torchvision.datasets.MNIST(\n",
    "    root=\"data\",\n",
    "    train=True,\n",
    "    download=False,\n",
    "    transform=transform\n",
    ")"
   ]
  },
  {
   "cell_type": "code",
   "execution_count": 5,
   "metadata": {},
   "outputs": [],
   "source": [
    "test_ds = torchvision.datasets.MNIST(\n",
    "    root=\"data\",\n",
    "    train=False,\n",
    "    download=False,\n",
    "    transform=transform\n",
    ")"
   ]
  },
  {
   "cell_type": "code",
   "execution_count": 6,
   "metadata": {},
   "outputs": [
    {
     "data": {
      "text/plain": [
       "<matplotlib.image.AxesImage at 0x15df84210>"
      ]
     },
     "execution_count": 6,
     "metadata": {},
     "output_type": "execute_result"
    },
    {
     "data": {
      "image/png": "[encoded data removed]",
      "text/plain": [
       "<Figure size 640x480 with 1 Axes>"
      ]
     },
     "metadata": {},
     "output_type": "display_data"
    }
   ],
   "source": [
    "plt.imshow(test_ds[0][0].squeeze().numpy(),cmap='gray')"
   ]
  },
  {
   "cell_type": "markdown",
   "metadata": {},
   "source": [
    "## Dataloaders"
   ]
  },
  {
   "cell_type": "code",
   "execution_count": 10,
   "metadata": {},
   "outputs": [],
   "source": [
    "from torch.utils.data import DataLoader"
   ]
  },
  {
   "cell_type": "code",
   "execution_count": 8,
   "metadata": {},
   "outputs": [
    {
     "data": {
      "text/plain": [
       "(60000, 10000)"
      ]
     },
     "execution_count": 8,
     "metadata": {},
     "output_type": "execute_result"
    }
   ],
   "source": [
    "len(train_ds), len(test_ds)"
   ]
  },
  {
   "cell_type": "code",
   "execution_count": 9,
   "metadata": {},
   "outputs": [
    {
     "data": {
      "text/plain": [
       "6000"
      ]
     },
     "execution_count": 9,
     "metadata": {},
     "output_type": "execute_result"
    }
   ],
   "source": [
    "validation_split = 0.1\n",
    "split = int(validation_split * len(train_ds))\n",
    "split"
   ]
  },
  {
   "cell_type": "code",
   "execution_count": 10,
   "metadata": {},
   "outputs": [
    {
     "data": {
      "text/plain": [
       "54000"
      ]
     },
     "execution_count": 10,
     "metadata": {},
     "output_type": "execute_result"
    }
   ],
   "source": [
    "train_split = len(train_ds) - split\n",
    "train_split"
   ]
  },
  {
   "cell_type": "code",
   "execution_count": 11,
   "metadata": {},
   "outputs": [],
   "source": [
    "train_ds, valid_ds = torch.utils.data.random_split(train_ds,(train_split,split))"
   ]
  },
  {
   "cell_type": "code",
   "execution_count": 12,
   "metadata": {},
   "outputs": [
    {
     "data": {
      "text/plain": [
       "(54000, 6000)"
      ]
     },
     "execution_count": 12,
     "metadata": {},
     "output_type": "execute_result"
    }
   ],
   "source": [
    "len(train_ds), len(valid_ds)"
   ]
  },
  {
   "cell_type": "code",
   "execution_count": 11,
   "metadata": {},
   "outputs": [],
   "source": [
    "# train_loader = DataLoader(dataset=train_ds, shuffle=True, batch_size=128)\n",
    "# val_loader = DataLoader(dataset=valid_ds, shuffle=False, batch_size=128)\n",
    "test_loader = DataLoader(dataset=test_ds, shuffle=False, batch_size=128)"
   ]
  },
  {
   "cell_type": "code",
   "execution_count": 12,
   "metadata": {},
   "outputs": [
    {
     "data": {
      "text/plain": [
       "79"
      ]
     },
     "execution_count": 12,
     "metadata": {},
     "output_type": "execute_result"
    }
   ],
   "source": [
    "# len(train_loader), len(val_loader), len(test_loader)\n",
    "len(test_loader)"
   ]
  },
  {
   "cell_type": "code",
   "execution_count": 13,
   "metadata": {},
   "outputs": [
    {
     "data": {
      "text/plain": [
       "10112"
      ]
     },
     "execution_count": 13,
     "metadata": {},
     "output_type": "execute_result"
    }
   ],
   "source": [
    "# len(train_loader)*128, len(val_loader)*128, len(test_loader)*128\n",
    "len(test_loader)*128"
   ]
  },
  {
   "cell_type": "code",
   "execution_count": 15,
   "metadata": {},
   "outputs": [],
   "source": [
    "X, y = next(iter(test_loader))"
   ]
  },
  {
   "cell_type": "code",
   "execution_count": 19,
   "metadata": {},
   "outputs": [
    {
     "data": {
      "text/plain": [
       "(torch.Size([128, 1, 28, 28]), torch.Size([128]))"
      ]
     },
     "execution_count": 19,
     "metadata": {},
     "output_type": "execute_result"
    }
   ],
   "source": [
    "X.shape, y.shape"
   ]
  },
  {
   "cell_type": "code",
   "execution_count": 20,
   "metadata": {},
   "outputs": [
    {
     "data": {
      "text/plain": [
       "<matplotlib.image.AxesImage at 0x15e071ad0>"
      ]
     },
     "execution_count": 20,
     "metadata": {},
     "output_type": "execute_result"
    },
    {
     "data": {
      "image/png": "[encoded data removed]",
      "text/plain": [
       "<Figure size 640x480 with 1 Axes>"
      ]
     },
     "metadata": {},
     "output_type": "display_data"
    }
   ],
   "source": [
    "plt.imshow(X[0].squeeze().numpy(),cmap='gray')"
   ]
  },
  {
   "cell_type": "code",
   "execution_count": null,
   "metadata": {},
   "outputs": [],
   "source": []
  },
  {
   "cell_type": "markdown",
   "metadata": {},
   "source": [
    "## Model"
   ]
  },
  {
   "cell_type": "code",
   "execution_count": 18,
   "metadata": {},
   "outputs": [],
   "source": [
    "class MLP(nn.Module):\n",
    "    def __init__(self):\n",
    "        super(MLP,self).__init__()\n",
    "        self.fc1 = nn.Linear(28*28, 128)\n",
    "        self.fc2 = nn.Linear(128, 64)\n",
    "        self.relu = nn.ReLU()\n",
    "        self.output = nn.Linear(64, 10)\n",
    "    \n",
    "    def forward(self, x):\n",
    "        x = x.view(-1,28*28)\n",
    "        x = self.relu(self.fc1(x))\n",
    "        x = self.relu(self.fc2(x))\n",
    "        return self.output(x)"
   ]
  },
  {
   "cell_type": "code",
   "execution_count": 19,
   "metadata": {},
   "outputs": [],
   "source": [
    "model = MLP()"
   ]
  },
  {
   "cell_type": "code",
   "execution_count": 20,
   "metadata": {},
   "outputs": [
    {
     "name": "stdout",
     "output_type": "stream",
     "text": [
      "----------------------------------------------------------------\n",
      "        Layer (type)               Output Shape         Param #\n",
      "================================================================\n",
      "            Linear-1                  [-1, 128]         100,480\n",
      "              ReLU-2                  [-1, 128]               0\n",
      "            Linear-3                   [-1, 64]           8,256\n",
      "              ReLU-4                   [-1, 64]               0\n",
      "            Linear-5                   [-1, 10]             650\n",
      "================================================================\n",
      "Total params: 109,386\n",
      "Trainable params: 109,386\n",
      "Non-trainable params: 0\n",
      "----------------------------------------------------------------\n",
      "Input size (MB): 0.00\n",
      "Forward/backward pass size (MB): 0.00\n",
      "Params size (MB): 0.42\n",
      "Estimated Total Size (MB): 0.42\n",
      "----------------------------------------------------------------\n"
     ]
    }
   ],
   "source": [
    "from torchsummary import summary\n",
    "summary(model,input_size=(1,28,28),device='cpu')"
   ]
  },
  {
   "cell_type": "code",
   "execution_count": 21,
   "metadata": {},
   "outputs": [
    {
     "data": {
      "text/plain": [
       "100480"
      ]
     },
     "execution_count": 21,
     "metadata": {},
     "output_type": "execute_result"
    }
   ],
   "source": [
    "784*128 + 128"
   ]
  },
  {
   "cell_type": "markdown",
   "metadata": {},
   "source": [
    "## Hyperparameters"
   ]
  },
  {
   "cell_type": "code",
   "execution_count": 22,
   "metadata": {},
   "outputs": [],
   "source": [
    "lr = 0.01\n",
    "batch_size = 128\n",
    "epochs = 5\n",
    "loss_fn = nn.CrossEntropyLoss()\n",
    "optimizer = torch.optim.Adam(model.parameters(),lr=lr)"
   ]
  },
  {
   "cell_type": "markdown",
   "metadata": {},
   "source": [
    "## Training One Epoch"
   ]
  },
  {
   "cell_type": "code",
   "execution_count": 32,
   "metadata": {},
   "outputs": [
    {
     "data": {
      "text/plain": [
       "54000"
      ]
     },
     "execution_count": 32,
     "metadata": {},
     "output_type": "execute_result"
    }
   ],
   "source": [
    "len(train_loader.dataset)"
   ]
  },
  {
   "cell_type": "code",
   "execution_count": 34,
   "metadata": {},
   "outputs": [],
   "source": [
    "_, (X,y) = next(enumerate(train_loader))"
   ]
  },
  {
   "cell_type": "code",
   "execution_count": 177,
   "metadata": {},
   "outputs": [
    {
     "data": {
      "text/plain": [
       "(torch.Size([2, 1, 28, 28]), tensor([4, 9]))"
      ]
     },
     "execution_count": 177,
     "metadata": {},
     "output_type": "execute_result"
    }
   ],
   "source": [
    "X[:2].shape, y[:2]"
   ]
  },
  {
   "cell_type": "code",
   "execution_count": 35,
   "metadata": {},
   "outputs": [],
   "source": [
    "X_, y_ = X[:2], y[:2]"
   ]
  },
  {
   "cell_type": "code",
   "execution_count": 36,
   "metadata": {},
   "outputs": [
    {
     "data": {
      "text/plain": [
       "tensor([[  8.0198, -10.0429,   1.2987,  -1.9326,  -1.0918,  -0.5431,   0.5910,\n",
       "          -1.5900,  -1.0409,   1.2352],\n",
       "        [  1.8375,  -3.8699,  -0.7068,   0.4927,  -2.9265,   2.5710,  -0.1191,\n",
       "           0.0477,   0.2691,   0.2380]], grad_fn=<AddmmBackward0>)"
      ]
     },
     "execution_count": 36,
     "metadata": {},
     "output_type": "execute_result"
    }
   ],
   "source": [
    "logits = model(X_)\n",
    "logits"
   ]
  },
  {
   "cell_type": "code",
   "execution_count": 38,
   "metadata": {},
   "outputs": [
    {
     "data": {
      "text/plain": [
       "tensor([0, 5])"
      ]
     },
     "execution_count": 38,
     "metadata": {},
     "output_type": "execute_result"
    }
   ],
   "source": [
    "logits.argmax(1)"
   ]
  },
  {
   "cell_type": "code",
   "execution_count": 264,
   "metadata": {},
   "outputs": [
    {
     "data": {
      "text/plain": [
       "(tensor([0.0888, 0.0903], grad_fn=<MaxBackward0>), tensor([0, 0]))"
      ]
     },
     "execution_count": 264,
     "metadata": {},
     "output_type": "execute_result"
    }
   ],
   "source": [
    "pred_probs, pred_labels = torch.max(logits,1)\n",
    "pred_probs, pred_labels"
   ]
  },
  {
   "cell_type": "code",
   "execution_count": 266,
   "metadata": {},
   "outputs": [
    {
     "data": {
      "text/plain": [
       "tensor([False, False])"
      ]
     },
     "execution_count": 266,
     "metadata": {},
     "output_type": "execute_result"
    }
   ],
   "source": [
    "pred_labels==y_"
   ]
  },
  {
   "cell_type": "code",
   "execution_count": 257,
   "metadata": {},
   "outputs": [
    {
     "data": {
      "text/plain": [
       "tensor(2.3374, grad_fn=<NllLossBackward0>)"
      ]
     },
     "execution_count": 257,
     "metadata": {},
     "output_type": "execute_result"
    }
   ],
   "source": [
    "loss = loss_fn(logits,y_)\n",
    "loss"
   ]
  },
  {
   "cell_type": "code",
   "execution_count": 258,
   "metadata": {},
   "outputs": [],
   "source": [
    "loss.backward()"
   ]
  },
  {
   "cell_type": "code",
   "execution_count": 259,
   "metadata": {},
   "outputs": [],
   "source": [
    "optimizer.step()"
   ]
  },
  {
   "cell_type": "code",
   "execution_count": 39,
   "metadata": {},
   "outputs": [],
   "source": [
    "def train_epoch(model, dataloader, lr=0.01, optimizer=None, loss_fn=nn.CrossEntropyLoss()):\n",
    "    optimizer = optimizer or torch.optim.Adam(model.parameters(),lr=lr)\n",
    "    model.train()\n",
    "    total_loss, acc, count = 0,0,0\n",
    "    for batch, (X,y) in enumerate(dataloader):\n",
    "        pred = model(X)\n",
    "        loss = loss_fn(pred,y)\n",
    "        optimizer.zero_grad()\n",
    "        loss.backward()\n",
    "        optimizer.step()\n",
    "        total_loss += loss\n",
    "        acc += (y==pred.argmax(1)).sum()\n",
    "        count += len(y)\n",
    "        if batch % 100 == 0:\n",
    "            print(f'Batch {batch} : size={len(y)} loss={total_loss.item()/count} acc={acc.item()/count}')\n",
    "    return total_loss.item()/count, acc.item()/count"
   ]
  },
  {
   "cell_type": "code",
   "execution_count": 25,
   "metadata": {},
   "outputs": [
    {
     "name": "stdout",
     "output_type": "stream",
     "text": [
      "Batch 0 : size=128 loss=0.01809118688106537 acc=0.171875\n",
      "Batch 1 : size=128 loss=0.023426208645105362 acc=0.1484375\n",
      "Batch 2 : size=128 loss=0.02180131773153941 acc=0.16927083333333334\n",
      "Batch 3 : size=128 loss=0.020811302587389946 acc=0.193359375\n",
      "Batch 4 : size=128 loss=0.02017519176006317 acc=0.1796875\n",
      "Batch 5 : size=128 loss=0.019709628075361252 acc=0.17578125\n",
      "Batch 6 : size=128 loss=0.01927755560193743 acc=0.17857142857142858\n",
      "Batch 7 : size=128 loss=0.01890816166996956 acc=0.189453125\n",
      "Batch 8 : size=128 loss=0.018556882937749226 acc=0.20052083333333334\n",
      "Batch 9 : size=128 loss=0.018095235526561736 acc=0.221875\n",
      "Batch 10 : size=128 loss=0.017708282579075207 acc=0.23579545454545456\n",
      "Batch 11 : size=128 loss=0.017394321660200756 acc=0.24479166666666666\n",
      "Batch 12 : size=128 loss=0.0170564571252236 acc=0.2620192307692308\n",
      "Batch 13 : size=128 loss=0.016649852905954634 acc=0.28348214285714285\n",
      "Batch 14 : size=128 loss=0.016336661577224732 acc=0.29270833333333335\n",
      "Batch 15 : size=128 loss=0.016013411805033684 acc=0.3095703125\n",
      "Batch 16 : size=128 loss=0.015688708599875954 acc=0.3272058823529412\n",
      "Batch 17 : size=128 loss=0.015326551265186734 acc=0.3441840277777778\n",
      "Batch 18 : size=128 loss=0.015029496268222206 acc=0.3569078947368421\n",
      "Batch 19 : size=128 loss=0.014790953695774078 acc=0.36640625\n",
      "Batch 20 : size=128 loss=0.01451426034881955 acc=0.37797619047619047\n",
      "Batch 21 : size=128 loss=0.01421600038355047 acc=0.3916903409090909\n",
      "Batch 22 : size=128 loss=0.013912287743195244 acc=0.40353260869565216\n",
      "Batch 23 : size=128 loss=0.013633770247300466 acc=0.4173177083333333\n",
      "Batch 24 : size=128 loss=0.013376688957214356 acc=0.4271875\n",
      "Batch 25 : size=128 loss=0.013084248854563786 acc=0.4387019230769231\n",
      "Batch 26 : size=128 loss=0.01285374054202327 acc=0.44994212962962965\n",
      "Batch 27 : size=128 loss=0.012631815459047045 acc=0.45870535714285715\n",
      "Batch 28 : size=128 loss=0.012374470973836964 acc=0.4692887931034483\n",
      "Batch 29 : size=128 loss=0.012141630053520203 acc=0.48020833333333335\n",
      "Batch 30 : size=128 loss=0.011939958218605287 acc=0.4884072580645161\n",
      "Batch 31 : size=128 loss=0.011750483885407448 acc=0.49609375\n",
      "Batch 32 : size=128 loss=0.011562312191182917 acc=0.5056818181818182\n",
      "Batch 33 : size=128 loss=0.011391829918412602 acc=0.5142463235294118\n",
      "Batch 34 : size=128 loss=0.011233363832746233 acc=0.5220982142857142\n",
      "Batch 35 : size=128 loss=0.011076364252302382 acc=0.5286458333333334\n",
      "Batch 36 : size=128 loss=0.01095232367515564 acc=0.5346283783783784\n",
      "Batch 37 : size=128 loss=0.010817709722016988 acc=0.5407072368421053\n",
      "Batch 38 : size=128 loss=0.010692145579900498 acc=0.5466746794871795\n",
      "Batch 39 : size=128 loss=0.010551980882883071 acc=0.5533203125\n",
      "Batch 40 : size=128 loss=0.010433910823449856 acc=0.5588795731707317\n",
      "Batch 41 : size=128 loss=0.010307615001996359 acc=0.5638020833333334\n",
      "Batch 42 : size=128 loss=0.010178604098253472 acc=0.5694040697674418\n",
      "Batch 43 : size=128 loss=0.010066682642156427 acc=0.5745738636363636\n",
      "Batch 44 : size=128 loss=0.009976966513527764 acc=0.5786458333333333\n",
      "Batch 45 : size=128 loss=0.009843176473741945 acc=0.5835597826086957\n",
      "Batch 46 : size=128 loss=0.00971088320650953 acc=0.589095744680851\n",
      "Batch 47 : size=128 loss=0.009615382179617882 acc=0.59326171875\n",
      "Batch 48 : size=128 loss=0.009500336890317956 acc=0.5985331632653061\n",
      "Batch 49 : size=128 loss=0.009397851824760437 acc=0.6025\n",
      "Batch 50 : size=128 loss=0.009312126566382015 acc=0.6060049019607843\n",
      "Batch 51 : size=128 loss=0.009219432679506449 acc=0.6104266826923077\n",
      "Batch 52 : size=128 loss=0.009125094931080656 acc=0.6142393867924528\n",
      "Batch 53 : size=128 loss=0.009048616996517888 acc=0.6176215277777778\n",
      "Batch 54 : size=128 loss=0.008973971822045066 acc=0.6221590909090909\n",
      "Batch 55 : size=128 loss=0.008885527295725686 acc=0.6262555803571429\n",
      "Batch 56 : size=128 loss=0.008804380893707275 acc=0.6300712719298246\n",
      "Batch 57 : size=128 loss=0.00872229604885496 acc=0.6330818965517241\n",
      "Batch 58 : size=128 loss=0.008631419327299474 acc=0.6371822033898306\n",
      "Batch 59 : size=128 loss=0.00855807662010193 acc=0.6407552083333333\n",
      "Batch 60 : size=128 loss=0.008487363330653457 acc=0.6438268442622951\n",
      "Batch 61 : size=128 loss=0.008411499761766004 acc=0.6471774193548387\n",
      "Batch 62 : size=128 loss=0.008329584485008604 acc=0.6506696428571429\n",
      "Batch 63 : size=128 loss=0.008249407634139061 acc=0.6546630859375\n",
      "Batch 64 : size=128 loss=0.008188607142521785 acc=0.6573317307692308\n",
      "Batch 65 : size=128 loss=0.008116311196124914 acc=0.6603929924242424\n",
      "Batch 66 : size=128 loss=0.008045519465830788 acc=0.6635960820895522\n",
      "Batch 67 : size=128 loss=0.007979614769711214 acc=0.6663602941176471\n",
      "Batch 68 : size=128 loss=0.007917833501014156 acc=0.6692708333333334\n",
      "Batch 69 : size=128 loss=0.007848762614386422 acc=0.6723214285714286\n",
      "Batch 70 : size=128 loss=0.007784775445159053 acc=0.6747359154929577\n",
      "Batch 71 : size=128 loss=0.007722186545530955 acc=0.6776258680555556\n",
      "Batch 72 : size=128 loss=0.007657790837222582 acc=0.6803296232876712\n",
      "Batch 73 : size=128 loss=0.007602487866942947 acc=0.6828547297297297\n",
      "Batch 74 : size=128 loss=0.0075528621673583984 acc=0.6848958333333334\n",
      "Batch 75 : size=128 loss=0.007500642224362022 acc=0.6873972039473685\n",
      "Batch 76 : size=128 loss=0.007436431073523187 acc=0.690137987012987\n",
      "Batch 77 : size=128 loss=0.007376647148376856 acc=0.6928084935897436\n",
      "Batch 78 : size=128 loss=0.0073407028294816806 acc=0.6943235759493671\n",
      "Batch 79 : size=128 loss=0.007272939383983612 acc=0.697265625\n",
      "Batch 80 : size=128 loss=0.0072222712599200965 acc=0.699266975308642\n",
      "Batch 81 : size=128 loss=0.007173695942250694 acc=0.7011242378048781\n",
      "Batch 82 : size=128 loss=0.007111778460353254 acc=0.7035956325301205\n",
      "Batch 83 : size=128 loss=0.007061447416033063 acc=0.7059151785714286\n",
      "Batch 84 : size=128 loss=0.007008205441867604 acc=0.7080882352941177\n",
      "Batch 85 : size=128 loss=0.006966582564420478 acc=0.7093931686046512\n",
      "Batch 86 : size=128 loss=0.006923591268473658 acc=0.7113864942528736\n",
      "Batch 87 : size=128 loss=0.006880265067924152 acc=0.7132457386363636\n",
      "Batch 88 : size=128 loss=0.006835694393415129 acc=0.715063202247191\n",
      "Batch 89 : size=128 loss=0.0067921658356984455 acc=0.7170138888888888\n",
      "Batch 90 : size=128 loss=0.006748692674951239 acc=0.7189217032967034\n",
      "Batch 91 : size=128 loss=0.006708655020465021 acc=0.7206182065217391\n",
      "Batch 92 : size=128 loss=0.006681505710847916 acc=0.7221102150537635\n",
      "Batch 93 : size=128 loss=0.006644667463099703 acc=0.7236535904255319\n",
      "Batch 94 : size=128 loss=0.00660156388031809 acc=0.725328947368421\n",
      "Batch 95 : size=128 loss=0.0065636225044727325 acc=0.7267252604166666\n",
      "Batch 96 : size=128 loss=0.0065352296091846585 acc=0.728173324742268\n",
      "Batch 97 : size=128 loss=0.006505794062906382 acc=0.7296715561224489\n",
      "Batch 98 : size=128 loss=0.006472046327109289 acc=0.7309816919191919\n",
      "Batch 99 : size=128 loss=0.006443400382995606 acc=0.732109375\n",
      "Batch 100 : size=128 loss=0.006402045193285045 acc=0.734065594059406\n",
      "Batch 101 : size=128 loss=0.00637921924684562 acc=0.7352175245098039\n",
      "Batch 102 : size=128 loss=0.006337557602854608 acc=0.7367263349514563\n",
      "Batch 103 : size=128 loss=0.0063028054741712716 acc=0.7378305288461539\n",
      "Batch 104 : size=128 loss=0.006272105943588983 acc=0.7390625\n",
      "Batch 105 : size=128 loss=0.006242169524138828 acc=0.7404923349056604\n",
      "Batch 106 : size=128 loss=0.0062146298239164266 acc=0.7418954439252337\n",
      "Batch 107 : size=128 loss=0.0061878567492520365 acc=0.7428385416666666\n",
      "Batch 108 : size=128 loss=0.006159845842133968 acc=0.7440510321100917\n",
      "Batch 109 : size=128 loss=0.00613122203133323 acc=0.7453835227272727\n",
      "Batch 110 : size=128 loss=0.006093613736264341 acc=0.7468327702702703\n",
      "Batch 111 : size=128 loss=0.006056632314409528 acc=0.7481166294642857\n",
      "Batch 112 : size=128 loss=0.00603541072490996 acc=0.749308628318584\n",
      "Batch 113 : size=128 loss=0.0060052704392817985 acc=0.7505482456140351\n",
      "Batch 114 : size=128 loss=0.005980535175489343 acc=0.7516304347826087\n",
      "Batch 115 : size=128 loss=0.005962901588143973 acc=0.7525592672413793\n",
      "Batch 116 : size=128 loss=0.005938851425790379 acc=0.7537393162393162\n",
      "Batch 117 : size=128 loss=0.005905313512026254 acc=0.7552304025423728\n",
      "Batch 118 : size=128 loss=0.005876161972013842 acc=0.756171218487395\n",
      "Batch 119 : size=128 loss=0.0058551256855328875 acc=0.7568359375\n",
      "Batch 120 : size=128 loss=0.005834770596717015 acc=0.7572959710743802\n",
      "Batch 121 : size=128 loss=0.005813151597976685 acc=0.7581967213114754\n",
      "Batch 122 : size=128 loss=0.005806162589933814 acc=0.758447662601626\n",
      "Batch 123 : size=128 loss=0.005783473772387351 acc=0.7593876008064516\n",
      "Batch 124 : size=128 loss=0.005761360168457031 acc=0.760375\n",
      "Batch 125 : size=128 loss=0.005738981186397492 acc=0.7614087301587301\n",
      "Batch 126 : size=128 loss=0.005721864268535704 acc=0.7622416338582677\n",
      "Batch 127 : size=128 loss=0.00570891285315156 acc=0.76287841796875\n",
      "Batch 128 : size=128 loss=0.005690622699353122 acc=0.763687015503876\n",
      "Batch 129 : size=128 loss=0.005673510753191434 acc=0.7644230769230769\n",
      "Batch 130 : size=128 loss=0.0056548250540522215 acc=0.7653268129770993\n",
      "Batch 131 : size=128 loss=0.005639327746449095 acc=0.7660984848484849\n",
      "Batch 132 : size=128 loss=0.005623400659489452 acc=0.7669760338345865\n",
      "Batch 133 : size=128 loss=0.005612702956840174 acc=0.7675489738805971\n",
      "Batch 134 : size=128 loss=0.005599980442612259 acc=0.7684606481481482\n",
      "Batch 135 : size=128 loss=0.005588263273239136 acc=0.7689568014705882\n",
      "Batch 136 : size=128 loss=0.005568867617279944 acc=0.7696738138686131\n",
      "Batch 137 : size=128 loss=0.00554722849873529 acc=0.7706068840579711\n",
      "Batch 138 : size=128 loss=0.005526133149647884 acc=0.7714703237410072\n",
      "Batch 139 : size=128 loss=0.005511393291609628 acc=0.7720982142857142\n",
      "Batch 140 : size=128 loss=0.005489326960651587 acc=0.7728834219858156\n",
      "Batch 141 : size=128 loss=0.005480438051089435 acc=0.7732724471830986\n",
      "Batch 142 : size=128 loss=0.005467121000890132 acc=0.7738745629370629\n",
      "Batch 143 : size=128 loss=0.005454019539886051 acc=0.7742513020833334\n",
      "Batch 144 : size=128 loss=0.005437759695381954 acc=0.7747844827586207\n",
      "Batch 145 : size=128 loss=0.005426041883965061 acc=0.7754173801369864\n",
      "Batch 146 : size=128 loss=0.005404228661336055 acc=0.7763605442176871\n",
      "Batch 147 : size=128 loss=0.0053871503552875 acc=0.777027027027027\n",
      "Batch 148 : size=128 loss=0.005369055991204793 acc=0.7776845637583892\n",
      "Batch 149 : size=128 loss=0.005350906054178874 acc=0.7784895833333333\n",
      "Batch 150 : size=128 loss=0.005329404840406203 acc=0.7795426324503312\n",
      "Batch 151 : size=128 loss=0.005311199316852971 acc=0.7803248355263158\n",
      "Batch 152 : size=128 loss=0.005302156887802423 acc=0.7803308823529411\n",
      "Batch 153 : size=128 loss=0.005283972272625217 acc=0.781148538961039\n",
      "Batch 154 : size=128 loss=0.005264470269603114 acc=0.7819052419354838\n",
      "Batch 155 : size=128 loss=0.005247390805146633 acc=0.782401842948718\n",
      "Batch 156 : size=128 loss=0.005229003490156429 acc=0.7832902070063694\n",
      "Batch 157 : size=128 loss=0.0052066667924953415 acc=0.7841673259493671\n",
      "Batch 158 : size=128 loss=0.0051899732283826145 acc=0.7848368710691824\n",
      "Batch 159 : size=128 loss=0.005178897455334663 acc=0.78544921875\n",
      "Batch 160 : size=128 loss=0.0051592932724804615 acc=0.7862965838509317\n",
      "Batch 161 : size=128 loss=0.005137789028662222 acc=0.787133487654321\n",
      "Batch 162 : size=128 loss=0.005117308874071741 acc=0.7880080521472392\n",
      "Batch 163 : size=128 loss=0.0051010934317984235 acc=0.7884908536585366\n",
      "Batch 164 : size=128 loss=0.005087831526091604 acc=0.789157196969697\n",
      "Batch 165 : size=128 loss=0.0050682956913867625 acc=0.7899096385542169\n",
      "Batch 166 : size=128 loss=0.005055673465043485 acc=0.7905127245508982\n",
      "Batch 167 : size=128 loss=0.005040146765254792 acc=0.7912016369047619\n",
      "Batch 168 : size=128 loss=0.005023075631384314 acc=0.7919748520710059\n",
      "Batch 169 : size=128 loss=0.005009178554310518 acc=0.7926930147058824\n",
      "Batch 170 : size=128 loss=0.005002481895580627 acc=0.7931286549707602\n",
      "Batch 171 : size=128 loss=0.004987865339877994 acc=0.7938317587209303\n",
      "Batch 172 : size=128 loss=0.004973121116616133 acc=0.7944815751445087\n",
      "Batch 173 : size=128 loss=0.00495676918961536 acc=0.7951688218390804\n",
      "Batch 174 : size=128 loss=0.004940740721566336 acc=0.7958928571428572\n",
      "Batch 175 : size=128 loss=0.004931754009290175 acc=0.7962979403409091\n",
      "Batch 176 : size=128 loss=0.004911930547595697 acc=0.7971839689265536\n",
      "Batch 177 : size=128 loss=0.0048971263210425215 acc=0.797752808988764\n",
      "Batch 178 : size=128 loss=0.0048883567309246385 acc=0.7982716480446927\n",
      "Batch 179 : size=128 loss=0.004871789283222622 acc=0.7991319444444445\n",
      "Batch 180 : size=128 loss=0.004860379089966663 acc=0.7997669198895028\n",
      "Batch 181 : size=128 loss=0.004843839577266148 acc=0.8006095467032966\n",
      "Batch 182 : size=128 loss=0.004836257038220682 acc=0.8011868169398907\n",
      "Batch 183 : size=128 loss=0.004820979483749556 acc=0.8018851902173914\n",
      "Batch 184 : size=128 loss=0.004806152549949852 acc=0.8025760135135135\n",
      "Batch 185 : size=128 loss=0.004790837405830301 acc=0.8031754032258065\n",
      "Batch 186 : size=128 loss=0.004776557817816097 acc=0.8036430481283422\n",
      "Batch 187 : size=128 loss=0.004765894184721277 acc=0.8041057180851063\n",
      "Batch 188 : size=128 loss=0.004753161990453327 acc=0.8045634920634921\n",
      "Batch 189 : size=128 loss=0.00473949250422026 acc=0.8050575657894737\n",
      "Batch 190 : size=128 loss=0.004725591674525076 acc=0.8057100785340314\n",
      "Batch 191 : size=128 loss=0.004712560834983985 acc=0.8063151041666666\n",
      "Batch 192 : size=128 loss=0.004696184180561125 acc=0.8069543393782384\n",
      "Batch 193 : size=128 loss=0.004689966894916652 acc=0.8072648195876289\n",
      "Batch 194 : size=128 loss=0.004679047144376314 acc=0.8076923076923077\n",
      "Batch 195 : size=128 loss=0.004674385396801695 acc=0.8080357142857143\n",
      "Batch 196 : size=128 loss=0.004662476517827378 acc=0.808573921319797\n",
      "Batch 197 : size=128 loss=0.004651954980811688 acc=0.8089883207070707\n",
      "Batch 198 : size=128 loss=0.004642966704152937 acc=0.8093200376884422\n",
      "Batch 199 : size=128 loss=0.004629252552986145 acc=0.809921875\n",
      "Batch 200 : size=128 loss=0.004621231140781991 acc=0.8103233830845771\n",
      "Batch 201 : size=128 loss=0.004613447602432553 acc=0.8106435643564357\n",
      "Batch 202 : size=128 loss=0.0046029102626105245 acc=0.8111530172413793\n",
      "Batch 203 : size=128 loss=0.0045928458372751875 acc=0.8114276960784313\n",
      "Batch 204 : size=128 loss=0.00458331980356356 acc=0.8118140243902439\n",
      "Batch 205 : size=128 loss=0.0045742592186603735 acc=0.8122724514563107\n",
      "Batch 206 : size=128 loss=0.0045618639476057415 acc=0.8128019323671497\n",
      "Batch 207 : size=128 loss=0.0045495222394283 acc=0.8132887620192307\n",
      "Batch 208 : size=128 loss=0.0045379194916720595 acc=0.8138083133971292\n",
      "Batch 209 : size=128 loss=0.004525354078837803 acc=0.8143973214285715\n",
      "Batch 210 : size=128 loss=0.0045189608894818205 acc=0.814684537914692\n",
      "Batch 211 : size=128 loss=0.004514969463618296 acc=0.8147479363207547\n",
      "Batch 212 : size=128 loss=0.0045054997077010606 acc=0.8150308098591549\n",
      "Batch 213 : size=128 loss=0.0044975915801859345 acc=0.8154570677570093\n",
      "Batch 214 : size=128 loss=0.004486558049224144 acc=0.8159156976744186\n",
      "Batch 215 : size=128 loss=0.004476256392620228 acc=0.81640625\n",
      "Batch 216 : size=128 loss=0.004471693445460587 acc=0.8167122695852534\n",
      "Batch 217 : size=128 loss=0.004460943948238268 acc=0.8170871559633027\n",
      "Batch 218 : size=128 loss=0.004450316842832522 acc=0.8176369863013698\n",
      "Batch 219 : size=128 loss=0.004443612965670499 acc=0.8177911931818181\n",
      "Batch 220 : size=128 loss=0.004434003819167883 acc=0.8182268099547512\n",
      "Batch 221 : size=128 loss=0.004425062521083935 acc=0.8186585022522522\n",
      "Batch 222 : size=128 loss=0.004416115882685367 acc=0.8191213565022422\n",
      "Batch 223 : size=128 loss=0.004408208387238639 acc=0.8193359375\n",
      "Batch 224 : size=128 loss=0.004400176472134061 acc=0.8197916666666667\n",
      "Batch 225 : size=128 loss=0.004391529655034563 acc=0.8201742256637168\n",
      "Batch 226 : size=128 loss=0.004386637967063467 acc=0.8203469162995595\n",
      "Batch 227 : size=128 loss=0.004375704024967395 acc=0.8207922149122807\n",
      "Batch 228 : size=128 loss=0.004369874187952566 acc=0.8210971615720524\n",
      "Batch 229 : size=128 loss=0.004359284172887387 acc=0.8215353260869566\n",
      "Batch 230 : size=128 loss=0.0043540145411635894 acc=0.8219020562770563\n",
      "Batch 231 : size=128 loss=0.004345388761882125 acc=0.8224003232758621\n",
      "Batch 232 : size=128 loss=0.004342085302131882 acc=0.822592542918455\n",
      "Batch 233 : size=128 loss=0.004331749728602222 acc=0.8229834401709402\n",
      "Batch 234 : size=128 loss=0.00432140421360097 acc=0.823404255319149\n",
      "Batch 235 : size=128 loss=0.004309736571069491 acc=0.8238877118644068\n",
      "Batch 236 : size=128 loss=0.004302462445029729 acc=0.8242022679324894\n",
      "Batch 237 : size=128 loss=0.004293332079879376 acc=0.8246454831932774\n",
      "Batch 238 : size=128 loss=0.004284351440653143 acc=0.8249542364016736\n",
      "Batch 239 : size=128 loss=0.004276152948538462 acc=0.825390625\n",
      "Batch 240 : size=128 loss=0.004268529998810954 acc=0.8257261410788381\n",
      "Batch 241 : size=128 loss=0.004257594258332055 acc=0.8261880165289256\n",
      "Batch 242 : size=128 loss=0.004252895896817431 acc=0.8263888888888888\n",
      "Batch 243 : size=128 loss=0.004249667535062696 acc=0.8266521516393442\n",
      "Batch 244 : size=128 loss=0.004244079881784867 acc=0.8268813775510204\n",
      "Batch 245 : size=128 loss=0.004238511004099031 acc=0.8272675304878049\n",
      "Batch 246 : size=128 loss=0.004230985757310381 acc=0.8275240384615384\n",
      "Batch 247 : size=128 loss=0.00422572176302633 acc=0.8276209677419355\n",
      "Batch 248 : size=128 loss=0.004217960748327784 acc=0.8280308734939759\n",
      "Batch 249 : size=128 loss=0.004207683563232422 acc=0.8284375\n",
      "Batch 250 : size=128 loss=0.004200436679490534 acc=0.8288408864541833\n",
      "Batch 251 : size=128 loss=0.004192194768360683 acc=0.8292100694444444\n",
      "Batch 252 : size=128 loss=0.004183131715525751 acc=0.8295145750988142\n",
      "Batch 253 : size=128 loss=0.004176785626749354 acc=0.8298166830708661\n",
      "Batch 254 : size=128 loss=0.004166922382279939 acc=0.8302696078431373\n",
      "Batch 255 : size=128 loss=0.00416004192084074 acc=0.83056640625\n",
      "Batch 256 : size=128 loss=0.004152353171708519 acc=0.8309824902723736\n",
      "Batch 257 : size=128 loss=0.004144446332325307 acc=0.8313650678294574\n",
      "Batch 258 : size=128 loss=0.004135570470890943 acc=0.8316541988416989\n",
      "Batch 259 : size=128 loss=0.00412524755184467 acc=0.8320612980769231\n",
      "Batch 260 : size=128 loss=0.004120812105493071 acc=0.8323156130268199\n",
      "Batch 261 : size=128 loss=0.00411755392569622 acc=0.8325381679389313\n",
      "Batch 262 : size=128 loss=0.0041131887145822036 acc=0.8326699144486692\n",
      "Batch 263 : size=128 loss=0.0041084623698032265 acc=0.8330374053030303\n",
      "Batch 264 : size=128 loss=0.004099218800382794 acc=0.8334316037735849\n",
      "Batch 265 : size=128 loss=0.004090511261072374 acc=0.8337640977443609\n",
      "Batch 266 : size=128 loss=0.004086424795429359 acc=0.8339770599250936\n",
      "Batch 267 : size=128 loss=0.00407933610588757 acc=0.8343050373134329\n",
      "Batch 268 : size=128 loss=0.004073358822932474 acc=0.8344563197026023\n",
      "Batch 269 : size=128 loss=0.00406668053732978 acc=0.8349247685185185\n",
      "Batch 270 : size=128 loss=0.0040599288095847265 acc=0.8351591328413284\n",
      "Batch 271 : size=128 loss=0.004050906090175404 acc=0.8355353860294118\n",
      "Batch 272 : size=128 loss=0.00404660212687957 acc=0.8357657967032966\n",
      "Batch 273 : size=128 loss=0.0040433924563609775 acc=0.8360515510948905\n",
      "Batch 274 : size=128 loss=0.004036569161848589 acc=0.8363352272727272\n",
      "Batch 275 : size=128 loss=0.004030775332796401 acc=0.8364753170289855\n",
      "Batch 276 : size=128 loss=0.004025168367241263 acc=0.8367554151624549\n",
      "Batch 277 : size=128 loss=0.004018660929563234 acc=0.8370334982014388\n",
      "Batch 278 : size=128 loss=0.00401224671298885 acc=0.8372815860215054\n",
      "Batch 279 : size=128 loss=0.004006339396749224 acc=0.8376116071428571\n",
      "Batch 280 : size=128 loss=0.004001390467334897 acc=0.8378836743772242\n",
      "Batch 281 : size=128 loss=0.003998047071145781 acc=0.8380429964539007\n",
      "Batch 282 : size=128 loss=0.003988086966659492 acc=0.8384220406360424\n",
      "Batch 283 : size=128 loss=0.00398231308225175 acc=0.8386333626760564\n",
      "Batch 284 : size=128 loss=0.0039755499153806455 acc=0.838843201754386\n",
      "Batch 285 : size=128 loss=0.003974007976638687 acc=0.8389696241258742\n",
      "Batch 286 : size=128 loss=0.003970812837421271 acc=0.8391223867595818\n",
      "Batch 287 : size=128 loss=0.003964355422390832 acc=0.8393825954861112\n",
      "Batch 288 : size=128 loss=0.003958167501799376 acc=0.839586937716263\n",
      "Batch 289 : size=128 loss=0.003953421115875244 acc=0.8398168103448276\n",
      "Batch 290 : size=128 loss=0.003945752107810318 acc=0.8401524914089347\n",
      "Batch 291 : size=128 loss=0.003938030706693048 acc=0.8405126284246576\n",
      "Batch 292 : size=128 loss=0.003932542361497066 acc=0.8408436433447098\n",
      "Batch 293 : size=128 loss=0.003925433775194648 acc=0.84109268707483\n",
      "Batch 294 : size=128 loss=0.003916742842076188 acc=0.8414459745762712\n",
      "Batch 295 : size=128 loss=0.003912067896610982 acc=0.8415065456081081\n",
      "Batch 296 : size=128 loss=0.003906021615872881 acc=0.8417771464646465\n",
      "Batch 297 : size=128 loss=0.003899365463512856 acc=0.8420459312080537\n",
      "Batch 298 : size=128 loss=0.00389395509675195 acc=0.8422867892976589\n",
      "Batch 299 : size=128 loss=0.0038888410727183024 acc=0.842578125\n",
      "Batch 300 : size=128 loss=0.0038874878043748218 acc=0.8427896594684385\n",
      "Batch 301 : size=128 loss=0.003881491967384389 acc=0.8429997930463576\n",
      "Batch 302 : size=128 loss=0.0038792933567915813 acc=0.8431311881188119\n",
      "Batch 303 : size=128 loss=0.0038739964365959167 acc=0.8433645148026315\n",
      "Batch 304 : size=128 loss=0.003868132731953605 acc=0.8435706967213115\n",
      "Batch 305 : size=128 loss=0.0038651333135717057 acc=0.8436223447712419\n",
      "Batch 306 : size=128 loss=0.0038603218059974696 acc=0.8438517915309446\n",
      "Batch 307 : size=128 loss=0.00385564449545625 acc=0.8441051136363636\n",
      "Batch 308 : size=128 loss=0.0038496120847930416 acc=0.8443315129449838\n",
      "Batch 309 : size=128 loss=0.003844879904100972 acc=0.8445564516129033\n",
      "Batch 310 : size=128 loss=0.0038396959519462954 acc=0.8447548231511254\n",
      "Batch 311 : size=128 loss=0.0038340813838518583 acc=0.8449769631410257\n",
      "Batch 312 : size=128 loss=0.0038307787130435053 acc=0.8452476038338658\n",
      "Batch 313 : size=128 loss=0.0038240289991828286 acc=0.845516520700637\n",
      "Batch 314 : size=128 loss=0.0038187348653399753 acc=0.8457093253968254\n",
      "Batch 315 : size=128 loss=0.003811858122861838 acc=0.845975079113924\n",
      "Batch 316 : size=128 loss=0.003807549220906447 acc=0.8461405757097792\n",
      "Batch 317 : size=128 loss=0.0038013364533958194 acc=0.8463541666666666\n",
      "Batch 318 : size=128 loss=0.0038008118124217448 acc=0.8463949843260188\n",
      "Batch 319 : size=128 loss=0.0037950821220874786 acc=0.8466796875\n",
      "Batch 320 : size=128 loss=0.003791093454925442 acc=0.8467922507788161\n",
      "Batch 321 : size=128 loss=0.003786904841476346 acc=0.8469526397515528\n",
      "Batch 322 : size=128 loss=0.0037827606171646354 acc=0.8471362229102167\n",
      "Batch 323 : size=128 loss=0.003778831826315986 acc=0.8473186728395061\n",
      "Batch 324 : size=128 loss=0.0037743282318115235 acc=0.8475\n",
      "Batch 325 : size=128 loss=0.0037705730075485136 acc=0.8476322852760736\n",
      "Batch 326 : size=128 loss=0.003766943919913849 acc=0.8477637614678899\n",
      "Batch 327 : size=128 loss=0.0037599213239623277 acc=0.8480611661585366\n",
      "Batch 328 : size=128 loss=0.0037516398995118302 acc=0.8483567629179332\n",
      "Batch 329 : size=128 loss=0.003747674190636837 acc=0.848532196969697\n",
      "Batch 330 : size=128 loss=0.0037428187459617223 acc=0.8486357628398792\n",
      "Batch 331 : size=128 loss=0.0037383271987179675 acc=0.8487622364457831\n",
      "Batch 332 : size=128 loss=0.0037362643548318215 acc=0.8488410285285285\n",
      "Batch 333 : size=128 loss=0.003728382601709423 acc=0.8491766467065869\n",
      "Batch 334 : size=128 loss=0.0037255593200228106 acc=0.8494169776119403\n",
      "Batch 335 : size=128 loss=0.003721066883632115 acc=0.8497488839285714\n",
      "Batch 336 : size=128 loss=0.003716737297239219 acc=0.8498933605341247\n",
      "Batch 337 : size=128 loss=0.003712424512445574 acc=0.8500600961538461\n",
      "Batch 338 : size=128 loss=0.0037076346642148177 acc=0.8503180309734514\n",
      "Batch 339 : size=128 loss=0.0037043518879834344 acc=0.8505055147058823\n",
      "Batch 340 : size=128 loss=0.0037017004930378753 acc=0.8506002565982405\n",
      "Batch 341 : size=128 loss=0.0036990684375428316 acc=0.8507629751461988\n",
      "Batch 342 : size=128 loss=0.00369422845868258 acc=0.8509019679300291\n",
      "Batch 343 : size=128 loss=0.0036892807760904004 acc=0.8511309956395349\n",
      "Batch 344 : size=128 loss=0.0036847625953563747 acc=0.851268115942029\n",
      "Batch 345 : size=128 loss=0.003680890006137032 acc=0.8514496026011561\n",
      "Batch 346 : size=128 loss=0.0036771754366520157 acc=0.8515625\n",
      "Batch 347 : size=128 loss=0.0036743547039470455 acc=0.851629849137931\n",
      "Batch 348 : size=128 loss=0.0036689306056943527 acc=0.8518535100286533\n",
      "Batch 349 : size=128 loss=0.003667069503239223 acc=0.8518526785714285\n",
      "Batch 350 : size=128 loss=0.003664753715536873 acc=0.8519408831908832\n",
      "Batch 351 : size=128 loss=0.003660923716696826 acc=0.8521395596590909\n",
      "Batch 352 : size=128 loss=0.0036584169263542544 acc=0.8521821883852692\n",
      "Batch 353 : size=128 loss=0.003654215632185424 acc=0.8523349223163842\n",
      "Batch 354 : size=128 loss=0.0036501427771339955 acc=0.8524427816901409\n",
      "Batch 355 : size=128 loss=0.0036521440141656426 acc=0.8524183637640449\n",
      "Batch 356 : size=128 loss=0.003649644157131847 acc=0.8525035014005602\n",
      "Batch 357 : size=128 loss=0.0036437561392118146 acc=0.8527627444134078\n",
      "Batch 358 : size=128 loss=0.0036390601426446005 acc=0.8529334958217271\n",
      "Batch 359 : size=128 loss=0.003636697596973843 acc=0.8529947916666667\n",
      "Batch 360 : size=128 loss=0.003632833092496666 acc=0.8531206717451524\n",
      "Batch 361 : size=128 loss=0.0036295303323650887 acc=0.8532890193370166\n",
      "Batch 362 : size=128 loss=0.00362429638539464 acc=0.8535425275482094\n",
      "Batch 363 : size=128 loss=0.0036207162416898287 acc=0.8537087912087912\n",
      "Batch 364 : size=128 loss=0.0036154747009277343 acc=0.8539383561643835\n",
      "Batch 365 : size=128 loss=0.003610273853677218 acc=0.8542307035519126\n",
      "Batch 366 : size=128 loss=0.003606211911754972 acc=0.8544363079019074\n",
      "Batch 367 : size=128 loss=0.003606250104696854 acc=0.8545134171195652\n",
      "Batch 368 : size=128 loss=0.003602350953471693 acc=0.8546747967479674\n",
      "Batch 369 : size=128 loss=0.003599176857922528 acc=0.8548353040540541\n",
      "Batch 370 : size=128 loss=0.003595451781691888 acc=0.8549738881401617\n",
      "Batch 371 : size=128 loss=0.003590230018861832 acc=0.8552167338709677\n",
      "Batch 372 : size=128 loss=0.0035838332956022617 acc=0.8554792225201072\n",
      "Batch 373 : size=128 loss=0.0035816692413493272 acc=0.8556149732620321\n",
      "Batch 374 : size=128 loss=0.0035766623814900717 acc=0.8558333333333333\n",
      "Batch 375 : size=128 loss=0.0035734205169880642 acc=0.855967420212766\n",
      "Batch 376 : size=128 loss=0.003570452925381041 acc=0.8560386273209549\n",
      "Batch 377 : size=128 loss=0.003565350537577634 acc=0.8562541335978836\n",
      "Batch 378 : size=128 loss=0.003561597071725649 acc=0.856447889182058\n",
      "Batch 379 : size=128 loss=0.003557089755409642 acc=0.8566611842105263\n",
      "Batch 380 : size=128 loss=0.003556606337780089 acc=0.8567093175853019\n",
      "Batch 381 : size=128 loss=0.003550932357448558 acc=0.8569412630890052\n",
      "Batch 382 : size=128 loss=0.003547382105735201 acc=0.8570088120104439\n",
      "Batch 383 : size=128 loss=0.003547971136868 acc=0.8569539388020834\n",
      "Batch 384 : size=128 loss=0.003548747223693055 acc=0.856939935064935\n",
      "Batch 385 : size=128 loss=0.0035435211473178367 acc=0.8571688795336787\n",
      "Batch 386 : size=128 loss=0.003539884429261358 acc=0.8573360788113695\n",
      "Batch 387 : size=128 loss=0.0035353923581310153 acc=0.8574822809278351\n",
      "Batch 388 : size=128 loss=0.0035304517549843285 acc=0.8576678984575835\n",
      "Batch 389 : size=128 loss=0.003525035809247922 acc=0.8578725961538461\n",
      "Batch 390 : size=128 loss=0.0035221460835098304 acc=0.8579763427109974\n",
      "Batch 391 : size=128 loss=0.003521133138208973 acc=0.8580596301020408\n",
      "Batch 392 : size=128 loss=0.0035188747119660898 acc=0.8582220101781171\n",
      "Batch 393 : size=128 loss=0.003514297722559895 acc=0.8583835659898477\n",
      "Batch 394 : size=128 loss=0.0035115537764150886 acc=0.858564082278481\n",
      "Batch 395 : size=128 loss=0.00350731641355187 acc=0.8587239583333334\n",
      "Batch 396 : size=128 loss=0.0035037745156276134 acc=0.8588830289672544\n",
      "Batch 397 : size=128 loss=0.0034996504759668705 acc=0.8590216708542714\n",
      "Batch 398 : size=128 loss=0.003499052279575128 acc=0.8590421365914787\n",
      "Batch 399 : size=128 loss=0.0034980016946792604 acc=0.85916015625\n",
      "Batch 400 : size=128 loss=0.003497633256222542 acc=0.8591606920199502\n",
      "Batch 401 : size=128 loss=0.003493493765740845 acc=0.859355565920398\n",
      "Batch 402 : size=128 loss=0.0034889645375329862 acc=0.8595494727047146\n",
      "Batch 403 : size=128 loss=0.003486893554725269 acc=0.8596457301980198\n",
      "Batch 404 : size=128 loss=0.003482020637135447 acc=0.8598186728395062\n",
      "Batch 405 : size=128 loss=0.003479456666655141 acc=0.8598753078817734\n",
      "Batch 406 : size=128 loss=0.0034739804209303797 acc=0.8601236179361179\n",
      "Batch 407 : size=128 loss=0.003471250627555099 acc=0.8602366727941176\n",
      "Batch 408 : size=128 loss=0.003465881557511234 acc=0.8604255806845966\n",
      "Batch 409 : size=128 loss=0.003463890494369879 acc=0.8605373475609757\n",
      "Batch 410 : size=128 loss=0.0034629570596699587 acc=0.8606675790754258\n",
      "Batch 411 : size=128 loss=0.0034594955374893633 acc=0.8607971783980582\n",
      "Batch 412 : size=128 loss=0.00345545242254151 acc=0.8609261501210653\n",
      "Batch 413 : size=128 loss=0.003452356022913099 acc=0.8610167572463768\n",
      "Batch 414 : size=128 loss=0.0034489051405205786 acc=0.8611634036144579\n",
      "Batch 415 : size=128 loss=0.003447174166257565 acc=0.8612342247596154\n",
      "Batch 416 : size=128 loss=0.003443694514908093 acc=0.8613609112709832\n",
      "Batch 417 : size=128 loss=0.0034389815262059844 acc=0.8615617523923444\n",
      "Batch 418 : size=128 loss=0.0034360060543888794 acc=0.8616124701670644\n",
      "Batch 419 : size=128 loss=0.0034353449231102353 acc=0.8617001488095238\n",
      "Batch 420 : size=128 loss=0.00343229142050845 acc=0.8618245249406176\n",
      "Batch 421 : size=112 loss=0.003430572509765625 acc=0.8619444444444444\n"
     ]
    },
    {
     "data": {
      "text/plain": [
       "(0.003430572509765625, 0.8619444444444444)"
      ]
     },
     "execution_count": 25,
     "metadata": {},
     "output_type": "execute_result"
    }
   ],
   "source": [
    "train_epoch(model=model,dataloader=train_loader)"
   ]
  },
  {
   "cell_type": "markdown",
   "metadata": {},
   "source": [
    "## Validating one epoch"
   ]
  },
  {
   "cell_type": "code",
   "execution_count": 40,
   "metadata": {},
   "outputs": [],
   "source": [
    "def validate(model,dataloader,loss_fn=nn.CrossEntropyLoss()):\n",
    "    model.eval()\n",
    "    total_loss, acc, count = 0,0,0\n",
    "    with torch.no_grad():\n",
    "        for X,y in dataloader:\n",
    "            out = model(X)\n",
    "            loss = loss_fn(out,y)\n",
    "            _,pred = torch.max(out,1)\n",
    "            acc += (pred==y).sum()\n",
    "            total_loss += loss\n",
    "            count+=len(y)\n",
    "    return total_loss.item()/count, acc.item()/count"
   ]
  },
  {
   "cell_type": "code",
   "execution_count": 29,
   "metadata": {},
   "outputs": [
    {
     "data": {
      "text/plain": [
       "(0.0016842676798502604, 0.9308333333333333)"
      ]
     },
     "execution_count": 29,
     "metadata": {},
     "output_type": "execute_result"
    }
   ],
   "source": [
    "validate(model,val_loader)"
   ]
  },
  {
   "cell_type": "markdown",
   "metadata": {},
   "source": [
    "## Training for N epochs"
   ]
  },
  {
   "cell_type": "code",
   "execution_count": 51,
   "metadata": {},
   "outputs": [],
   "source": [
    "def train(model,train_loader,val_loader,epochs=10,optimizer=None,lr=0.01,loss_fn=nn.CrossEntropyLoss()):\n",
    "    optimizer = optimizer or torch.optim.Adam(model.parameters(),lr=lr)\n",
    "    res = {\n",
    "        'train_loss':[],\n",
    "        'val_loss':[],\n",
    "        'train_acc':[],\n",
    "        'val_acc':[]\n",
    "    }\n",
    "    for ep in range(epochs):\n",
    "        tl,ta = train_epoch(model,train_loader,optimizer=optimizer,lr=lr,loss_fn=loss_fn)\n",
    "        vl,va = validate(model,val_loader,loss_fn=loss_fn)\n",
    "        print(f\"Epoch {ep:2}, Train acc={ta:.3f}, Val acc={va:.3f}, Train loss={tl:.3f}, Val loss={vl:.3f}\")\n",
    "        res['train_loss'].append(tl)\n",
    "        res['train_acc'].append(ta)\n",
    "        res['val_loss'].append(vl)\n",
    "        res['val_acc'].append(va)\n",
    "    return res"
   ]
  },
  {
   "cell_type": "code",
   "execution_count": 52,
   "metadata": {},
   "outputs": [
    {
     "name": "stdout",
     "output_type": "stream",
     "text": [
      "Batch 0 : size=128 loss=0.0011252545518800616 acc=0.9453125\n",
      "Batch 100 : size=128 loss=0.0011601377241682298 acc=0.9599319306930693\n",
      "Batch 200 : size=128 loss=0.001164784256498612 acc=0.9592661691542289\n",
      "Batch 300 : size=128 loss=0.0011275871053486567 acc=0.9601588455149501\n",
      "Batch 400 : size=128 loss=0.001110155237583151 acc=0.9607037094763092\n",
      "Epoch  0, Train acc=0.960, Val acc=0.954, Train loss=0.001, Val loss=0.001\n",
      "Batch 0 : size=128 loss=0.000497330678626895 acc=0.984375\n",
      "Batch 100 : size=128 loss=0.0011239551229052023 acc=0.9591584158415841\n",
      "Batch 200 : size=128 loss=0.0010798981237174266 acc=0.9614427860696517\n",
      "Batch 300 : size=128 loss=0.0010780037637564827 acc=0.9616382890365448\n",
      "Batch 400 : size=128 loss=0.0010432174378202444 acc=0.96245713840399\n",
      "Epoch  1, Train acc=0.962, Val acc=0.958, Train loss=0.001, Val loss=0.001\n",
      "Batch 0 : size=128 loss=0.0008466210565529764 acc=0.96875\n",
      "Batch 100 : size=128 loss=0.0011024333462856784 acc=0.9610148514851485\n",
      "Batch 200 : size=128 loss=0.00105415410663358 acc=0.9625310945273632\n",
      "Batch 300 : size=128 loss=0.0011112225610156391 acc=0.9605741279069767\n",
      "Batch 400 : size=128 loss=0.0010588455973123375 acc=0.9622038653366584\n",
      "Epoch  2, Train acc=0.962, Val acc=0.955, Train loss=0.001, Val loss=0.002\n",
      "Batch 0 : size=128 loss=0.0008387877023778856 acc=0.9765625\n",
      "Batch 100 : size=128 loss=0.0009604543447494507 acc=0.9644956683168316\n",
      "Batch 200 : size=128 loss=0.0010382762150977975 acc=0.9624922263681592\n",
      "Batch 300 : size=128 loss=0.0010753614561898367 acc=0.9610672757475083\n",
      "Batch 400 : size=128 loss=0.0010414440881581675 acc=0.9627688591022444\n",
      "Epoch  3, Train acc=0.963, Val acc=0.960, Train loss=0.001, Val loss=0.001\n",
      "Batch 0 : size=128 loss=0.0007022017962299287 acc=0.9765625\n",
      "Batch 100 : size=128 loss=0.0009963719709084767 acc=0.9648050742574258\n",
      "Batch 200 : size=128 loss=0.0009429445907251159 acc=0.9662624378109452\n",
      "Batch 300 : size=128 loss=0.0009277946133154176 acc=0.9665178571428571\n",
      "Batch 400 : size=128 loss=0.0009758470213026775 acc=0.9654184850374065\n",
      "Epoch  4, Train acc=0.966, Val acc=0.957, Train loss=0.001, Val loss=0.001\n",
      "Batch 0 : size=128 loss=0.0006529240636155009 acc=0.9765625\n",
      "Batch 100 : size=128 loss=0.0008091790103676295 acc=0.9706837871287128\n",
      "Batch 200 : size=128 loss=0.0008388018578439209 acc=0.9690220771144279\n",
      "Batch 300 : size=128 loss=0.0008930276794687062 acc=0.9670110049833887\n",
      "Batch 400 : size=128 loss=0.0009603683193425585 acc=0.9645807356608479\n",
      "Epoch  5, Train acc=0.965, Val acc=0.959, Train loss=0.001, Val loss=0.001\n",
      "Batch 0 : size=128 loss=0.0005057945381850004 acc=0.9765625\n",
      "Batch 100 : size=128 loss=0.0009999985594560605 acc=0.9635674504950495\n",
      "Batch 200 : size=128 loss=0.0009182808707602581 acc=0.966728855721393\n",
      "Batch 300 : size=128 loss=0.0009282507571667136 acc=0.9668293189368771\n",
      "Batch 400 : size=128 loss=0.0009386551350429468 acc=0.9666848503740648\n",
      "Epoch  6, Train acc=0.967, Val acc=0.962, Train loss=0.001, Val loss=0.001\n",
      "Batch 0 : size=128 loss=0.0010318313725292683 acc=0.9609375\n",
      "Batch 100 : size=128 loss=0.0007946460258842695 acc=0.9696782178217822\n",
      "Batch 200 : size=128 loss=0.0008830276887808273 acc=0.9675062189054726\n",
      "Batch 300 : size=128 loss=0.0009338307222258609 acc=0.9658170681063123\n",
      "Batch 400 : size=128 loss=0.0009856123728050556 acc=0.9638209164588528\n",
      "Epoch  7, Train acc=0.964, Val acc=0.948, Train loss=0.001, Val loss=0.002\n",
      "Batch 0 : size=128 loss=0.0004641611303668469 acc=0.9765625\n",
      "Batch 100 : size=128 loss=0.0009325544285302115 acc=0.9652691831683168\n",
      "Batch 200 : size=128 loss=0.0009560874890332198 acc=0.964902052238806\n",
      "Batch 300 : size=128 loss=0.000978344599669954 acc=0.964078073089701\n",
      "Batch 400 : size=128 loss=0.0009958130909023142 acc=0.9636455735660848\n",
      "Epoch  8, Train acc=0.964, Val acc=0.955, Train loss=0.001, Val loss=0.001\n",
      "Batch 0 : size=128 loss=0.000735614390578121 acc=0.96875\n",
      "Batch 100 : size=128 loss=0.0008048392315902332 acc=0.9706064356435643\n",
      "Batch 200 : size=128 loss=0.0008422415796203993 acc=0.9695662313432836\n",
      "Batch 300 : size=128 loss=0.0008580599512372698 acc=0.9691393272425249\n",
      "Batch 400 : size=128 loss=0.0009307876192126191 acc=0.9665095074812967\n",
      "Epoch  9, Train acc=0.966, Val acc=0.953, Train loss=0.001, Val loss=0.002\n"
     ]
    },
    {
     "data": {
      "text/plain": [
       "{'train_loss': [0.0011142454500551577,\n",
       "  0.0010440652635362413,\n",
       "  0.0010615300072564018,\n",
       "  0.0010386934633608218,\n",
       "  0.0009704649889910662,\n",
       "  0.0009605570899115668,\n",
       "  0.0009434881563539858,\n",
       "  0.0009917586997703269,\n",
       "  0.000997234203197338,\n",
       "  0.0009505131332962601],\n",
       " 'val_loss': [0.001482638676961263,\n",
       "  0.001439632256825765,\n",
       "  0.0015734138488769532,\n",
       "  0.0012507623036702475,\n",
       "  0.0013446075121561687,\n",
       "  0.0014300638834635418,\n",
       "  0.0012775804996490478,\n",
       "  0.0017858440081278484,\n",
       "  0.0014995792706807454,\n",
       "  0.0015144837697347005],\n",
       " 'train_acc': [0.960462962962963,\n",
       "  0.9624444444444444,\n",
       "  0.9620925925925926,\n",
       "  0.9628703703703704,\n",
       "  0.9655555555555555,\n",
       "  0.9647407407407408,\n",
       "  0.9666296296296296,\n",
       "  0.9635925925925926,\n",
       "  0.9636296296296296,\n",
       "  0.9658703703703704],\n",
       " 'val_acc': [0.9541666666666667,\n",
       "  0.958,\n",
       "  0.9545,\n",
       "  0.9596666666666667,\n",
       "  0.957,\n",
       "  0.9585,\n",
       "  0.9615,\n",
       "  0.9478333333333333,\n",
       "  0.9545,\n",
       "  0.9526666666666667]}"
      ]
     },
     "execution_count": 52,
     "metadata": {},
     "output_type": "execute_result"
    }
   ],
   "source": [
    "hist = train(model,train_loader,val_loader,epochs=10)\n",
    "hist"
   ]
  },
  {
   "cell_type": "markdown",
   "metadata": {},
   "source": [
    "## Visualize"
   ]
  },
  {
   "cell_type": "code",
   "execution_count": 55,
   "metadata": {},
   "outputs": [
    {
     "data": {
      "text/plain": [
       "[<matplotlib.lines.Line2D at 0x1697c29d0>]"
      ]
     },
     "execution_count": 55,
     "metadata": {},
     "output_type": "execute_result"
    },
    {
     "data": {
      "image/png": "[encoded data removed]",
      "text/plain": [
       "<Figure size 1500x500 with 2 Axes>"
      ]
     },
     "metadata": {},
     "output_type": "display_data"
    }
   ],
   "source": [
    "plt.figure(figsize=(15,5))\n",
    "plt.subplot(121)\n",
    "plt.plot(hist['train_acc'],label='Training Acc')\n",
    "plt.plot(hist['val_acc'],label='Validation Acc')\n",
    "plt.subplot(122)\n",
    "plt.plot(hist['train_loss'],label='Training Loss')\n",
    "plt.plot(hist['val_loss'],label='Validation Loss')"
   ]
  },
  {
   "cell_type": "markdown",
   "metadata": {},
   "source": [
    "## Visualize Model Weights"
   ]
  },
  {
   "cell_type": "code",
   "execution_count": 73,
   "metadata": {},
   "outputs": [
    {
     "name": "stdout",
     "output_type": "stream",
     "text": [
      "layer 0: torch.Size([128, 784])\n",
      "layer 1: torch.Size([128])\n",
      "layer 2: torch.Size([64, 128])\n",
      "layer 3: torch.Size([64])\n",
      "layer 4: torch.Size([10, 64])\n",
      "layer 5: torch.Size([10])\n"
     ]
    }
   ],
   "source": [
    "for i, layer in enumerate(model.parameters()):\n",
    "    print(f'layer {i}: {layer.shape}')"
   ]
  },
  {
   "cell_type": "code",
   "execution_count": 59,
   "metadata": {},
   "outputs": [
    {
     "data": {
      "text/plain": [
       "Parameter containing:\n",
       "tensor([[ 0.0417, -0.0061,  0.0573,  ...,  0.0562, -0.0057,  0.0250],\n",
       "        [ 0.0698,  0.0472,  0.0403,  ...,  0.0666,  0.0692,  0.0455],\n",
       "        [ 0.0805,  0.0796,  0.0943,  ...,  0.1030,  0.0889,  0.0848],\n",
       "        ...,\n",
       "        [ 0.2024,  0.2333,  0.2124,  ...,  0.1845,  0.2007,  0.2516],\n",
       "        [ 0.0455,  0.0728,  0.0373,  ...,  0.0892,  0.0895,  0.0739],\n",
       "        [ 0.0634,  0.0825,  0.0721,  ...,  0.0416,  0.0823,  0.0285]],\n",
       "       requires_grad=True)"
      ]
     },
     "execution_count": 59,
     "metadata": {},
     "output_type": "execute_result"
    }
   ],
   "source": [
    "weights = next(model.parameters())\n",
    "weights"
   ]
  },
  {
   "cell_type": "code",
   "execution_count": 78,
   "metadata": {},
   "outputs": [
    {
     "data": {
      "text/plain": [
       "torch.Size([784])"
      ]
     },
     "execution_count": 78,
     "metadata": {},
     "output_type": "execute_result"
    }
   ],
   "source": [
    "weights[0].shape"
   ]
  },
  {
   "cell_type": "code",
   "execution_count": 81,
   "metadata": {},
   "outputs": [
    {
     "data": {
      "text/plain": [
       "torch.Size([128, 784])"
      ]
     },
     "execution_count": 81,
     "metadata": {},
     "output_type": "execute_result"
    }
   ],
   "source": [
    "weights.shape"
   ]
  },
  {
   "cell_type": "code",
   "execution_count": null,
   "metadata": {},
   "outputs": [],
   "source": [
    "fig,ax = plt.subplots(1,10,figsize=(15,4))\n",
    "for i, layer in enumerate(weights):\n",
    "    ax[i].imshow(layer.view(28,28).detach())"
   ]
  },
  {
   "cell_type": "code",
   "execution_count": 80,
   "metadata": {},
   "outputs": [
    {
     "ename": "IndexError",
     "evalue": "index 10 is out of bounds for axis 0 with size 10",
     "output_type": "error",
     "traceback": [
      "\u001b[0;31m---------------------------------------------------------------------------\u001b[0m",
      "\u001b[0;31mIndexError\u001b[0m                                Traceback (most recent call last)",
      "Cell \u001b[0;32mIn[80], line 3\u001b[0m\n\u001b[1;32m      1\u001b[0m fig,ax \u001b[38;5;241m=\u001b[39m plt\u001b[38;5;241m.\u001b[39msubplots(\u001b[38;5;241m1\u001b[39m,\u001b[38;5;241m10\u001b[39m,figsize\u001b[38;5;241m=\u001b[39m(\u001b[38;5;241m15\u001b[39m,\u001b[38;5;241m4\u001b[39m))\n\u001b[1;32m      2\u001b[0m \u001b[38;5;28;01mfor\u001b[39;00m i, layer \u001b[38;5;129;01min\u001b[39;00m \u001b[38;5;28menumerate\u001b[39m(weights):\n\u001b[0;32m----> 3\u001b[0m     \u001b[43max\u001b[49m\u001b[43m[\u001b[49m\u001b[43mi\u001b[49m\u001b[43m]\u001b[49m\u001b[38;5;241m.\u001b[39mimshow(layer\u001b[38;5;241m.\u001b[39mview(\u001b[38;5;241m28\u001b[39m,\u001b[38;5;241m28\u001b[39m)\u001b[38;5;241m.\u001b[39mdetach())\n",
      "\u001b[0;31mIndexError\u001b[0m: index 10 is out of bounds for axis 0 with size 10"
     ]
    },
    {
     "data": {
      "image/png": "[encoded data removed]",
      "text/plain": [
       "<Figure size 1500x400 with 10 Axes>"
      ]
     },
     "metadata": {},
     "output_type": "display_data"
    }
   ],
   "source": [
    "fig,ax = plt.subplots(1,10,figsize=(15,4))\n",
    "for i, layer in enumerate(weights):\n",
    "    ax[i].imshow(layer.view(28,28).detach())"
   ]
  },
  {
   "cell_type": "code",
   "execution_count": null,
   "metadata": {},
   "outputs": [],
   "source": []
  },
  {
   "cell_type": "markdown",
   "metadata": {},
   "source": [
    "## ROUGH"
   ]
  },
  {
   "cell_type": "code",
   "execution_count": 72,
   "metadata": {},
   "outputs": [],
   "source": [
    "randomized_indices = torch.randperm(len(train_ds))\n",
    "randomized_valid_indices = randomized_indices[:split]\n",
    "randomized_train_indices = randomized_indices[split:]"
   ]
  },
  {
   "cell_type": "code",
   "execution_count": 70,
   "metadata": {},
   "outputs": [
    {
     "data": {
      "text/plain": [
       "((<PIL.Image.Image image mode=L size=28x28>, 4),\n",
       " (<PIL.Image.Image image mode=L size=28x28>, 4))"
      ]
     },
     "execution_count": 70,
     "metadata": {},
     "output_type": "execute_result"
    }
   ],
   "source": [
    "train_ds[idx[0]], train_ds[41098]"
   ]
  },
  {
   "cell_type": "code",
   "execution_count": 65,
   "metadata": {},
   "outputs": [
    {
     "data": {
      "text/plain": [
       "(tensor([20, 10, 30, 40, 60], dtype=torch.uint8),\n",
       " tensor([60, 20, 30, 40, 10], dtype=torch.uint8))"
      ]
     },
     "execution_count": 65,
     "metadata": {},
     "output_type": "execute_result"
    }
   ],
   "source": [
    "## ROUGH\n",
    "# a = torch.arange(10)\n",
    "a = torch.tensor([20,10,30,40,60],dtype=torch.uint8)\n",
    "idx = torch.randperm(len(a))\n",
    "a, a[idx]"
   ]
  },
  {
   "cell_type": "code",
   "execution_count": 66,
   "metadata": {},
   "outputs": [
    {
     "data": {
      "text/plain": [
       "tensor([4, 0, 2, 3, 1])"
      ]
     },
     "execution_count": 66,
     "metadata": {},
     "output_type": "execute_result"
    }
   ],
   "source": [
    "idx"
   ]
  },
  {
   "cell_type": "code",
   "execution_count": 48,
   "metadata": {},
   "outputs": [],
   "source": [
    "logits = torch.tensor([[1000.0, 1000.0, -1000.0]])"
   ]
  },
  {
   "cell_type": "code",
   "execution_count": 70,
   "metadata": {},
   "outputs": [
    {
     "data": {
      "text/plain": [
       "tensor([[0.2312, 0.1402, 0.6285],\n",
       "        [0.0674, 0.8214, 0.1112]])"
      ]
     },
     "execution_count": 70,
     "metadata": {},
     "output_type": "execute_result"
    }
   ],
   "source": [
    "z = torch.tensor([[1,0.5,2],[0.5,3,1]])\n",
    "yhat = z.exp()/(z.exp().sum(-1)).unsqueeze(1)\n",
    "yhat"
   ]
  },
  {
   "cell_type": "code",
   "execution_count": 77,
   "metadata": {},
   "outputs": [
    {
     "data": {
      "text/plain": [
       "tensor([[0.2312, 0.1402, 0.6285],\n",
       "        [0.0674, 0.8214, 0.1112]])"
      ]
     },
     "execution_count": 77,
     "metadata": {},
     "output_type": "execute_result"
    }
   ],
   "source": [
    "y = torch.tensor([2,1])\n",
    "yhat[range(y.shape[0])]"
   ]
  },
  {
   "cell_type": "code",
   "execution_count": 78,
   "metadata": {},
   "outputs": [
    {
     "data": {
      "text/plain": [
       "tensor([0.6285, 0.8214])"
      ]
     },
     "execution_count": 78,
     "metadata": {},
     "output_type": "execute_result"
    }
   ],
   "source": [
    "yhat[range(y.shape[0]),y]"
   ]
  },
  {
   "cell_type": "code",
   "execution_count": 80,
   "metadata": {},
   "outputs": [
    {
     "data": {
      "text/plain": [
       "tensor(-0.3306)"
      ]
     },
     "execution_count": 80,
     "metadata": {},
     "output_type": "execute_result"
    }
   ],
   "source": [
    "yhat[range(y.shape[0]),y].log().mean()"
   ]
  },
  {
   "cell_type": "markdown",
   "metadata": {},
   "source": [
    "## Softmax"
   ]
  },
  {
   "cell_type": "code",
   "execution_count": 81,
   "metadata": {},
   "outputs": [],
   "source": [
    "def softmax(z):\n",
    "    return z.exp()/(z.exp().sum(-1)).unsqueeze(1)\n",
    "\n",
    "def nll(yhat,y):\n",
    "    return -yhat[range(y.shape[0]),y].log().mean()"
   ]
  },
  {
   "cell_type": "code",
   "execution_count": 194,
   "metadata": {},
   "outputs": [
    {
     "name": "stderr",
     "output_type": "stream",
     "text": [
      "/var/folders/2l/rc_qpxgd5z5csn7pnpmqsd8r0000gp/T/ipykernel_44358/1164643235.py:3: UserWarning: Implicit dimension choice for softmax has been deprecated. Change the call to include dim=X as an argument.\n",
      "  yhat, nn.functional.softmax(z)\n"
     ]
    },
    {
     "data": {
      "text/plain": [
       "(tensor([[0.2312, 0.1402, 0.6285],\n",
       "         [0.0674, 0.8214, 0.1112]]),\n",
       " tensor([[0.2312, 0.1402, 0.6285],\n",
       "         [0.0674, 0.8214, 0.1112]]))"
      ]
     },
     "execution_count": 194,
     "metadata": {},
     "output_type": "execute_result"
    }
   ],
   "source": [
    "z = torch.tensor([[1,0.5,2],[0.5,3,1]])\n",
    "yhat = softmax(z)\n",
    "yhat, nn.functional.softmax(z)"
   ]
  },
  {
   "cell_type": "code",
   "execution_count": 230,
   "metadata": {},
   "outputs": [
    {
     "data": {
      "text/plain": [
       "tensor([[0., 0., 1.],\n",
       "        [0., 1., 0.]])"
      ]
     },
     "execution_count": 230,
     "metadata": {},
     "output_type": "execute_result"
    }
   ],
   "source": [
    "y = torch.tensor([[0,0,1],[0,1,0]],dtype=torch.float32)\n",
    "y"
   ]
  },
  {
   "cell_type": "code",
   "execution_count": 229,
   "metadata": {},
   "outputs": [
    {
     "data": {
      "text/plain": [
       "tensor([2., 3.])"
      ]
     },
     "execution_count": 229,
     "metadata": {},
     "output_type": "execute_result"
    }
   ],
   "source": [
    "torch.tensor([torch.dot(y_,z_) for y_, z_ in zip(y,z)])"
   ]
  },
  {
   "cell_type": "code",
   "execution_count": 220,
   "metadata": {},
   "outputs": [
    {
     "data": {
      "text/plain": [
       "(tensor([[0.2312, 0.1402, 0.6285],\n",
       "         [0.0674, 0.8214, 0.1112]]),\n",
       " tensor([[-1.4644, -1.9644, -0.4644],\n",
       "         [-2.6967, -0.1967, -2.1967]]))"
      ]
     },
     "execution_count": 220,
     "metadata": {},
     "output_type": "execute_result"
    }
   ],
   "source": [
    "z = torch.tensor([[1,0.5,2],[0.5,3,1]])\n",
    "yhat = softmax(z)\n",
    "yhat, torch.log(yhat)"
   ]
  },
  {
   "cell_type": "code",
   "execution_count": 238,
   "metadata": {},
   "outputs": [
    {
     "data": {
      "text/plain": [
       "(tensor([[1.0000, 0.5000, 2.0000],\n",
       "         [0.5000, 3.0000, 1.0000]]),\n",
       " tensor([2, 1]))"
      ]
     },
     "execution_count": 238,
     "metadata": {},
     "output_type": "execute_result"
    }
   ],
   "source": [
    "z,y"
   ]
  },
  {
   "cell_type": "code",
   "execution_count": 239,
   "metadata": {},
   "outputs": [
    {
     "name": "stderr",
     "output_type": "stream",
     "text": [
      "/var/folders/2l/rc_qpxgd5z5csn7pnpmqsd8r0000gp/T/ipykernel_44358/3430194690.py:1: UserWarning: Implicit dimension choice for softmax has been deprecated. Change the call to include dim=X as an argument.\n",
      "  p = nn.functional.softmax(z)\n"
     ]
    },
    {
     "data": {
      "text/plain": [
       "tensor(0.3306)"
      ]
     },
     "execution_count": 239,
     "metadata": {},
     "output_type": "execute_result"
    }
   ],
   "source": [
    "p = nn.functional.softmax(z)\n",
    "logp = torch.log(p)\n",
    "nn.functional.nll_loss(logp,y)"
   ]
  },
  {
   "cell_type": "code",
   "execution_count": 221,
   "metadata": {},
   "outputs": [
    {
     "data": {
      "text/plain": [
       "tensor([[-1.4644, -1.9644, -0.4644],\n",
       "        [-2.6967, -0.1967, -2.1967]])"
      ]
     },
     "execution_count": 221,
     "metadata": {},
     "output_type": "execute_result"
    }
   ],
   "source": [
    "logp = torch.log(yhat)\n",
    "logp"
   ]
  },
  {
   "cell_type": "code",
   "execution_count": 242,
   "metadata": {},
   "outputs": [
    {
     "ename": "RuntimeError",
     "evalue": "1D tensors expected, but got 0D and 1D tensors",
     "output_type": "error",
     "traceback": [
      "\u001b[0;31m---------------------------------------------------------------------------\u001b[0m",
      "\u001b[0;31mRuntimeError\u001b[0m                              Traceback (most recent call last)",
      "Cell \u001b[0;32mIn[242], line 1\u001b[0m\n\u001b[0;32m----> 1\u001b[0m loss \u001b[38;5;241m=\u001b[39m torch\u001b[38;5;241m.\u001b[39mtensor(\u001b[43m[\u001b[49m\u001b[43mtorch\u001b[49m\u001b[38;5;241;43m.\u001b[39;49m\u001b[43mdot\u001b[49m\u001b[43m(\u001b[49m\u001b[43my_\u001b[49m\u001b[43m,\u001b[49m\u001b[43mz_\u001b[49m\u001b[43m)\u001b[49m\u001b[43m \u001b[49m\u001b[38;5;28;43;01mfor\u001b[39;49;00m\u001b[43m \u001b[49m\u001b[43my_\u001b[49m\u001b[43m,\u001b[49m\u001b[43m \u001b[49m\u001b[43mz_\u001b[49m\u001b[43m \u001b[49m\u001b[38;5;129;43;01min\u001b[39;49;00m\u001b[43m \u001b[49m\u001b[38;5;28;43mzip\u001b[39;49m\u001b[43m(\u001b[49m\u001b[43my\u001b[49m\u001b[43m,\u001b[49m\u001b[43mlogp\u001b[49m\u001b[43m)\u001b[49m\u001b[43m]\u001b[49m)\n\u001b[1;32m      2\u001b[0m loss\n",
      "Cell \u001b[0;32mIn[242], line 1\u001b[0m, in \u001b[0;36m<listcomp>\u001b[0;34m(.0)\u001b[0m\n\u001b[0;32m----> 1\u001b[0m loss \u001b[38;5;241m=\u001b[39m torch\u001b[38;5;241m.\u001b[39mtensor([\u001b[43mtorch\u001b[49m\u001b[38;5;241;43m.\u001b[39;49m\u001b[43mdot\u001b[49m\u001b[43m(\u001b[49m\u001b[43my_\u001b[49m\u001b[43m,\u001b[49m\u001b[43mz_\u001b[49m\u001b[43m)\u001b[49m \u001b[38;5;28;01mfor\u001b[39;00m y_, z_ \u001b[38;5;129;01min\u001b[39;00m \u001b[38;5;28mzip\u001b[39m(y,logp)])\n\u001b[1;32m      2\u001b[0m loss\n",
      "\u001b[0;31mRuntimeError\u001b[0m: 1D tensors expected, but got 0D and 1D tensors"
     ]
    }
   ],
   "source": [
    "loss = torch.tensor([torch.dot(y_,z_) for y_, z_ in zip(y,logp)])\n",
    "loss"
   ]
  },
  {
   "cell_type": "code",
   "execution_count": 233,
   "metadata": {},
   "outputs": [
    {
     "data": {
      "text/plain": [
       "tensor(-0.3306)"
      ]
     },
     "execution_count": 233,
     "metadata": {},
     "output_type": "execute_result"
    }
   ],
   "source": [
    "loss.mean()"
   ]
  },
  {
   "cell_type": "code",
   "execution_count": 237,
   "metadata": {},
   "outputs": [
    {
     "data": {
      "text/plain": [
       "tensor([-0.4644, -0.1967])"
      ]
     },
     "execution_count": 237,
     "metadata": {},
     "output_type": "execute_result"
    }
   ],
   "source": [
    "y = torch.tensor([2,1])\n",
    "logp[range(len(y)),y]"
   ]
  },
  {
   "cell_type": "code",
   "execution_count": 209,
   "metadata": {},
   "outputs": [
    {
     "name": "stderr",
     "output_type": "stream",
     "text": [
      "/var/folders/2l/rc_qpxgd5z5csn7pnpmqsd8r0000gp/T/ipykernel_44358/3441497416.py:3: UserWarning: Implicit dimension choice for softmax has been deprecated. Change the call to include dim=X as an argument.\n",
      "  yhat, nn.functional.softmax(z)\n"
     ]
    },
    {
     "data": {
      "text/plain": [
       "(tensor([[0., 0., nan]]), tensor([[0., 0., 1.]]))"
      ]
     },
     "execution_count": 209,
     "metadata": {},
     "output_type": "execute_result"
    }
   ],
   "source": [
    "z = torch.tensor([[-1000.0, -1000.0, 1000.0]])\n",
    "yhat = softmax(z)\n",
    "yhat, nn.functional.softmax(z)"
   ]
  },
  {
   "cell_type": "code",
   "execution_count": 216,
   "metadata": {},
   "outputs": [
    {
     "name": "stderr",
     "output_type": "stream",
     "text": [
      "/var/folders/2l/rc_qpxgd5z5csn7pnpmqsd8r0000gp/T/ipykernel_44358/2878315608.py:3: UserWarning: Implicit dimension choice for softmax has been deprecated. Change the call to include dim=X as an argument.\n",
      "  yhat, nn.functional.softmax(z)\n"
     ]
    },
    {
     "data": {
      "text/plain": [
       "(tensor([[0., 0., 1.]]), tensor([[0., 0., 1.]]))"
      ]
     },
     "execution_count": 216,
     "metadata": {},
     "output_type": "execute_result"
    }
   ],
   "source": [
    "z = torch.tensor([[-1000.0, -2000.0, 500.0]])\n",
    "yhat = softmax_norm(z)\n",
    "yhat, nn.functional.softmax(z)"
   ]
  },
  {
   "cell_type": "code",
   "execution_count": 214,
   "metadata": {},
   "outputs": [
    {
     "name": "stderr",
     "output_type": "stream",
     "text": [
      "/var/folders/2l/rc_qpxgd5z5csn7pnpmqsd8r0000gp/T/ipykernel_44358/3154230817.py:3: UserWarning: Implicit dimension choice for softmax has been deprecated. Change the call to include dim=X as an argument.\n",
      "  yhat, nn.functional.softmax(z)\n"
     ]
    },
    {
     "data": {
      "text/plain": [
       "(tensor([[nan, nan, nan]]), tensor([[0., 0., 1.]]))"
      ]
     },
     "execution_count": 214,
     "metadata": {},
     "output_type": "execute_result"
    }
   ],
   "source": [
    "z = torch.tensor([[-1000.0, -2000.0, -500.0]])\n",
    "yhat = softmax(z)\n",
    "yhat, nn.functional.softmax(z)"
   ]
  },
  {
   "cell_type": "code",
   "execution_count": 215,
   "metadata": {},
   "outputs": [
    {
     "data": {
      "text/plain": [
       "tensor([[0., 0., 1.]])"
      ]
     },
     "execution_count": 215,
     "metadata": {},
     "output_type": "execute_result"
    }
   ],
   "source": [
    "softmax_norm(z)"
   ]
  },
  {
   "cell_type": "code",
   "execution_count": 195,
   "metadata": {},
   "outputs": [
    {
     "data": {
      "text/plain": [
       "(tensor(0.3306), tensor(-0.7250))"
      ]
     },
     "execution_count": 195,
     "metadata": {},
     "output_type": "execute_result"
    }
   ],
   "source": [
    "y = torch.tensor([2,1])\n",
    "nll(yhat,y), nn.functional.nll_loss(yhat,y)"
   ]
  },
  {
   "cell_type": "code",
   "execution_count": 191,
   "metadata": {},
   "outputs": [
    {
     "data": {
      "text/plain": [
       "tensor([[0.2312, 0.1402, 0.6285],\n",
       "        [0.0674, 0.8214, 0.1112]])"
      ]
     },
     "execution_count": 191,
     "metadata": {},
     "output_type": "execute_result"
    }
   ],
   "source": [
    "y = torch.tensor([2,1])\n",
    "yhat, nll(yhat,y)"
   ]
  },
  {
   "cell_type": "code",
   "execution_count": 91,
   "metadata": {},
   "outputs": [
    {
     "data": {
      "text/plain": [
       "tensor(0.3306)"
      ]
     },
     "execution_count": 91,
     "metadata": {},
     "output_type": "execute_result"
    }
   ],
   "source": [
    "nn.functional.cross_entropy(z,y)"
   ]
  },
  {
   "cell_type": "code",
   "execution_count": 98,
   "metadata": {},
   "outputs": [
    {
     "data": {
      "text/plain": [
       "tensor([[-1.4644, -1.9644, -0.4644],\n",
       "        [-2.6967, -0.1967, -2.1967]])"
      ]
     },
     "execution_count": 98,
     "metadata": {},
     "output_type": "execute_result"
    }
   ],
   "source": [
    "z - z.exp().sum(-1).log().unsqueeze(1)"
   ]
  },
  {
   "cell_type": "markdown",
   "metadata": {},
   "source": [
    "## Normalized Softmax"
   ]
  },
  {
   "cell_type": "code",
   "execution_count": 213,
   "metadata": {},
   "outputs": [
    {
     "name": "stderr",
     "output_type": "stream",
     "text": [
      "/var/folders/2l/rc_qpxgd5z5csn7pnpmqsd8r0000gp/T/ipykernel_44358/1783377894.py:6: UserWarning: Implicit dimension choice for softmax has been deprecated. Change the call to include dim=X as an argument.\n",
      "  softmax_norm(z), nn.functional.softmax(z)\n"
     ]
    },
    {
     "data": {
      "text/plain": [
       "(tensor([[0.3333, 0.3333, 0.3333]]), tensor([[0.3333, 0.3333, 0.3333]]))"
      ]
     },
     "execution_count": 213,
     "metadata": {},
     "output_type": "execute_result"
    }
   ],
   "source": [
    "def softmax_norm(z):\n",
    "    z_max, _ = torch.max(z,-1,keepdim=True)\n",
    "    z = z - z_max\n",
    "    return z.exp()/(z.exp().sum(-1)).unsqueeze(1)\n",
    "\n",
    "softmax_norm(z), nn.functional.softmax(z)"
   ]
  },
  {
   "cell_type": "markdown",
   "metadata": {},
   "source": [
    "## Log Softmax"
   ]
  },
  {
   "cell_type": "code",
   "execution_count": 99,
   "metadata": {},
   "outputs": [],
   "source": [
    "def log_softmax(z):\n",
    "    return z - z.exp().sum(-1).log().unsqueeze(1)\n",
    "\n",
    "def nl(yhat,y):\n",
    "    return -yhat[range(y.shape[0]),y].mean()"
   ]
  },
  {
   "cell_type": "code",
   "execution_count": 141,
   "metadata": {},
   "outputs": [
    {
     "data": {
      "text/plain": [
       "(tensor([[-1.4644, -1.9644, -0.4644],\n",
       "         [-2.6967, -0.1967, -2.1967]]),\n",
       " tensor(0.3306))"
      ]
     },
     "execution_count": 141,
     "metadata": {},
     "output_type": "execute_result"
    }
   ],
   "source": [
    "z = torch.tensor([[1,0.5,2],[0.5,3,1]])\n",
    "y = torch.tensor([2,1])\n",
    "yhat = log_softmax(z)\n",
    "yhat, -yhat[range(len(y)),y].mean()"
   ]
  },
  {
   "cell_type": "code",
   "execution_count": 204,
   "metadata": {},
   "outputs": [
    {
     "data": {
      "text/plain": [
       "(tensor([[-1.4644, -1.9644, -0.4644],\n",
       "         [-2.6967, -0.1967, -2.1967],\n",
       "         [    inf,     inf,     inf],\n",
       "         [   -inf,    -inf,    -inf]]),\n",
       " tensor([0.4644, 0.1967,   -inf,    inf]),\n",
       " tensor(nan))"
      ]
     },
     "execution_count": 204,
     "metadata": {},
     "output_type": "execute_result"
    }
   ],
   "source": [
    "z = torch.tensor([[1,0.5,2],[0.5,3,1],[-1000,-250,-200],[-1000.0, -1000.0, 1000.0]])\n",
    "y = torch.tensor([2,1,1,0])\n",
    "yhat = log_softmax(z)\n",
    "yhat, -yhat[range(y.shape[0]),y],  nl(yhat,y)"
   ]
  },
  {
   "cell_type": "code",
   "execution_count": 206,
   "metadata": {},
   "outputs": [
    {
     "data": {
      "text/plain": [
       "(tensor([[ 1.0000e+00,  5.0000e-01,  2.0000e+00],\n",
       "         [ 5.0000e-01,  3.0000e+00,  1.0000e+00],\n",
       "         [-1.0000e+03, -2.5000e+02, -2.0000e+02],\n",
       "         [-1.0000e+03, -1.0000e+03,  1.0000e+03]]),\n",
       " tensor([11.7561, 24.4525,  0.0000,     inf]))"
      ]
     },
     "execution_count": 206,
     "metadata": {},
     "output_type": "execute_result"
    }
   ],
   "source": [
    "z, z.exp().sum(-1)"
   ]
  },
  {
   "cell_type": "code",
   "execution_count": 142,
   "metadata": {},
   "outputs": [
    {
     "data": {
      "text/plain": [
       "tensor([[2.],\n",
       "        [3.]])"
      ]
     },
     "execution_count": 142,
     "metadata": {},
     "output_type": "execute_result"
    }
   ],
   "source": [
    "z_max, _ = torch.max(z,-1,keepdim=True)\n",
    "z_max"
   ]
  },
  {
   "cell_type": "code",
   "execution_count": 143,
   "metadata": {},
   "outputs": [
    {
     "data": {
      "text/plain": [
       "(tensor([[-1.0000, -1.5000,  0.0000],\n",
       "         [-2.5000,  0.0000, -2.0000]]),\n",
       " tensor([[0.3679, 0.2231, 1.0000],\n",
       "         [0.0821, 1.0000, 0.1353]]),\n",
       " tensor([[0.4644],\n",
       "         [0.1967]]))"
      ]
     },
     "execution_count": 143,
     "metadata": {},
     "output_type": "execute_result"
    }
   ],
   "source": [
    "z - z_max, (z - z_max).exp(), (z - z_max).exp().sum(-1).log().unsqueeze(1)"
   ]
  },
  {
   "cell_type": "markdown",
   "metadata": {},
   "source": [
    "## Log Softmax Normalized"
   ]
  },
  {
   "cell_type": "code",
   "execution_count": 234,
   "metadata": {},
   "outputs": [],
   "source": [
    "def log_softmax(z):\n",
    "    z_max, _ = torch.max(z,-1,keepdim=True)\n",
    "    return z - z_max - (z-z_max).exp().sum(-1).log().unsqueeze(1)\n",
    "\n",
    "def nl(yhat,y):\n",
    "    return -yhat[range(y.shape[0]),y].mean()"
   ]
  },
  {
   "cell_type": "code",
   "execution_count": 135,
   "metadata": {},
   "outputs": [
    {
     "data": {
      "text/plain": [
       "(tensor([[-1.4644, -1.9644, -0.4644],\n",
       "         [-2.6967, -0.1967, -2.1967]]),\n",
       " tensor(0.3306))"
      ]
     },
     "execution_count": 135,
     "metadata": {},
     "output_type": "execute_result"
    }
   ],
   "source": [
    "z = torch.tensor([[1,0.5,2],[0.5,3,1]])\n",
    "y = torch.tensor([2,1])\n",
    "yhat = log_softmax(z)\n",
    "yhat, nl(yhat,y)"
   ]
  },
  {
   "cell_type": "code",
   "execution_count": 235,
   "metadata": {},
   "outputs": [
    {
     "data": {
      "text/plain": [
       "tensor([[-1.4644, -1.9644, -0.4644],\n",
       "        [-2.6967, -0.1967, -2.1967]])"
      ]
     },
     "execution_count": 235,
     "metadata": {},
     "output_type": "execute_result"
    }
   ],
   "source": [
    "logp = log_softmax(z)\n",
    "logp"
   ]
  },
  {
   "cell_type": "code",
   "execution_count": 196,
   "metadata": {},
   "outputs": [
    {
     "data": {
      "text/plain": [
       "(tensor([[-1.4644e+00, -1.9644e+00, -4.6437e-01],\n",
       "         [-2.6967e+00, -1.9673e-01, -2.1967e+00],\n",
       "         [-1.0000e+03,  0.0000e+00, -2.2000e+03],\n",
       "         [-2.0000e+03, -2.0000e+03,  0.0000e+00]]),\n",
       " tensor([4.6437e-01, 1.9673e-01, -0.0000e+00, 2.0000e+03]),\n",
       " tensor(500.1653))"
      ]
     },
     "execution_count": 196,
     "metadata": {},
     "output_type": "execute_result"
    }
   ],
   "source": [
    "z = torch.tensor([[1,0.5,2],[0.5,3,1],[1000,2000,-200],[-1000.0, -1000.0, 1000.0]])\n",
    "y = torch.tensor([2,1,1,0])\n",
    "yhat = log_softmax_norm(z)\n",
    "yhat, -yhat[range(y.shape[0]),y],  nl(yhat,y)"
   ]
  },
  {
   "cell_type": "code",
   "execution_count": 218,
   "metadata": {},
   "outputs": [
    {
     "name": "stderr",
     "output_type": "stream",
     "text": [
      "/var/folders/2l/rc_qpxgd5z5csn7pnpmqsd8r0000gp/T/ipykernel_44358/1853536919.py:2: UserWarning: Implicit dimension choice for log_softmax has been deprecated. Change the call to include dim=X as an argument.\n",
      "  log_softmax_norm(z), nn.functional.log_softmax(z)\n"
     ]
    },
    {
     "data": {
      "text/plain": [
       "(tensor([[-2000., -2000.,     0.]]), tensor([[-2000., -2000.,     0.]]))"
      ]
     },
     "execution_count": 218,
     "metadata": {},
     "output_type": "execute_result"
    }
   ],
   "source": [
    "z = torch.tensor([[-1000.0, -1000.0, 1000.0]])\n",
    "log_softmax_norm(z), nn.functional.log_softmax(z)"
   ]
  },
  {
   "cell_type": "code",
   "execution_count": 219,
   "metadata": {},
   "outputs": [
    {
     "name": "stderr",
     "output_type": "stream",
     "text": [
      "/var/folders/2l/rc_qpxgd5z5csn7pnpmqsd8r0000gp/T/ipykernel_44358/3342561684.py:2: UserWarning: Implicit dimension choice for log_softmax has been deprecated. Change the call to include dim=X as an argument.\n",
      "  log_softmax_norm(z), nn.functional.log_softmax(z)\n"
     ]
    },
    {
     "data": {
      "text/plain": [
       "(tensor([[ -500., -1500.,     0.]]), tensor([[ -500., -1500.,     0.]]))"
      ]
     },
     "execution_count": 219,
     "metadata": {},
     "output_type": "execute_result"
    }
   ],
   "source": [
    "z = torch.tensor([[-1000.0, -2000.0, -500.0]])\n",
    "log_softmax_norm(z), nn.functional.log_softmax(z)"
   ]
  },
  {
   "cell_type": "code",
   "execution_count": 197,
   "metadata": {},
   "outputs": [
    {
     "data": {
      "text/plain": [
       "tensor([[0.2312, 0.1402, 0.6285],\n",
       "        [0.0674, 0.8214, 0.1112],\n",
       "        [   nan,    nan, 0.0000],\n",
       "        [0.0000, 0.0000,    nan]])"
      ]
     },
     "execution_count": 197,
     "metadata": {},
     "output_type": "execute_result"
    }
   ],
   "source": [
    "z = torch.tensor([[1,0.5,2],[0.5,3,1],[1000,2000,-200],[-1000.0, -1000.0, 1000.0]])\n",
    "yhat = softmax(z)\n",
    "yhat"
   ]
  },
  {
   "cell_type": "code",
   "execution_count": 129,
   "metadata": {},
   "outputs": [
    {
     "data": {
      "text/plain": [
       "(tensor([[ 1.0000e+00,  5.0000e-01,  2.0000e+00],\n",
       "         [ 5.0000e-01,  3.0000e+00,  1.0000e+00],\n",
       "         [ 1.0000e+03,  2.0000e+03, -2.0000e+02]]),\n",
       " tensor([[   2.],\n",
       "         [   3.],\n",
       "         [2000.]]))"
      ]
     },
     "execution_count": 129,
     "metadata": {},
     "output_type": "execute_result"
    }
   ],
   "source": [
    "z_max, _ = torch.max(z,-1,keepdim=True)\n",
    "z, z_max"
   ]
  },
  {
   "cell_type": "code",
   "execution_count": 134,
   "metadata": {},
   "outputs": [
    {
     "data": {
      "text/plain": [
       "(tensor([[-1.0000e+00, -1.5000e+00,  0.0000e+00],\n",
       "         [-2.5000e+00,  0.0000e+00, -2.0000e+00],\n",
       "         [-1.0000e+03,  0.0000e+00, -2.2000e+03]]),\n",
       " tensor([[0.4644],\n",
       "         [0.1967],\n",
       "         [0.0000]]))"
      ]
     },
     "execution_count": 134,
     "metadata": {},
     "output_type": "execute_result"
    }
   ],
   "source": [
    "z - z_max, (z - z_max).exp().sum(-1).log().unsqueeze(1)"
   ]
  },
  {
   "cell_type": "code",
   "execution_count": 137,
   "metadata": {},
   "outputs": [
    {
     "data": {
      "text/plain": [
       "tensor(0.2204)"
      ]
     },
     "execution_count": 137,
     "metadata": {},
     "output_type": "execute_result"
    }
   ],
   "source": [
    "nn.functional.cross_entropy(z,y)"
   ]
  },
  {
   "cell_type": "code",
   "execution_count": null,
   "metadata": {},
   "outputs": [],
   "source": []
  }
 ],
 "metadata": {
  "kernelspec": {
   "display_name": "dsp",
   "language": "python",
   "name": "python3"
  },
  "language_info": {
   "codemirror_mode": {
    "name": "ipython",
    "version": 3
   },
   "file_extension": ".py",
   "mimetype": "text/x-python",
   "name": "python",
   "nbconvert_exporter": "python",
   "pygments_lexer": "ipython3",
   "version": "3.11.8"
  }
 },
 "nbformat": 4,
 "nbformat_minor": 2
}
