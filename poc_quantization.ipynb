{
  "nbformat": 4,
  "nbformat_minor": 0,
  "metadata": {
    "colab": {
      "provenance": []
    },
    "kernelspec": {
      "name": "python3",
      "display_name": "Python 3"
    },
    "language_info": {
      "name": "python"
    }
  },
  "cells": [
    {
      "cell_type": "code",
      "execution_count": 2,
      "metadata": {
        "id": "o005evH55dON"
      },
      "outputs": [],
      "source": [
        "import torch.quantization"
      ]
    },
    {
      "cell_type": "code",
      "source": [
        "torch.backends.quantized.engine = 'fbgemm'"
      ],
      "metadata": {
        "id": "J1HOKYy85ymK"
      },
      "execution_count": 3,
      "outputs": []
    },
    {
      "cell_type": "code",
      "source": [
        "torch.backends.quantized.engine"
      ],
      "metadata": {
        "colab": {
          "base_uri": "https://localhost:8080/",
          "height": 35
        },
        "id": "BqkvifMn59OT",
        "outputId": "cc59113f-3f3a-4010-d258-9d20c14fb915"
      },
      "execution_count": 4,
      "outputs": [
        {
          "output_type": "execute_result",
          "data": {
            "text/plain": [
              "'fbgemm'"
            ],
            "application/vnd.google.colaboratory.intrinsic+json": {
              "type": "string"
            }
          },
          "metadata": {},
          "execution_count": 4
        }
      ]
    },
    {
      "cell_type": "code",
      "source": [],
      "metadata": {
        "id": "AuGLY83qBXav"
      },
      "execution_count": null,
      "outputs": []
    }
  ]
}